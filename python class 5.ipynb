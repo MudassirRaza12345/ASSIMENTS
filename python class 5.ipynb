{
 "cells": [
  {
   "cell_type": "markdown",
   "metadata": {},
   "source": []
  },
  {
   "cell_type": "code",
   "execution_count": 11,
   "metadata": {},
   "outputs": [
    {
     "name": "stdout",
     "output_type": "stream",
     "text": [
      "Original String :  THE cow AND Sheep RacinG\n",
      "No of Upper case letter : 1\n",
      "No of Lower case letter : 0\n",
      "Original String :  THE cow AND Sheep RacinG\n",
      "No of Upper case letter : 2\n",
      "No of Lower case letter : 0\n",
      "Original String :  THE cow AND Sheep RacinG\n",
      "No of Upper case letter : 3\n",
      "No of Lower case letter : 0\n",
      "Original String :  THE cow AND Sheep RacinG\n",
      "No of Upper case letter : 3\n",
      "No of Lower case letter : 0\n",
      "Original String :  THE cow AND Sheep RacinG\n",
      "No of Upper case letter : 3\n",
      "No of Lower case letter : 1\n",
      "Original String :  THE cow AND Sheep RacinG\n",
      "No of Upper case letter : 3\n",
      "No of Lower case letter : 2\n",
      "Original String :  THE cow AND Sheep RacinG\n",
      "No of Upper case letter : 3\n",
      "No of Lower case letter : 3\n",
      "Original String :  THE cow AND Sheep RacinG\n",
      "No of Upper case letter : 3\n",
      "No of Lower case letter : 3\n",
      "Original String :  THE cow AND Sheep RacinG\n",
      "No of Upper case letter : 4\n",
      "No of Lower case letter : 3\n",
      "Original String :  THE cow AND Sheep RacinG\n",
      "No of Upper case letter : 5\n",
      "No of Lower case letter : 3\n",
      "Original String :  THE cow AND Sheep RacinG\n",
      "No of Upper case letter : 6\n",
      "No of Lower case letter : 3\n",
      "Original String :  THE cow AND Sheep RacinG\n",
      "No of Upper case letter : 6\n",
      "No of Lower case letter : 3\n",
      "Original String :  THE cow AND Sheep RacinG\n",
      "No of Upper case letter : 7\n",
      "No of Lower case letter : 3\n",
      "Original String :  THE cow AND Sheep RacinG\n",
      "No of Upper case letter : 7\n",
      "No of Lower case letter : 4\n",
      "Original String :  THE cow AND Sheep RacinG\n",
      "No of Upper case letter : 7\n",
      "No of Lower case letter : 5\n",
      "Original String :  THE cow AND Sheep RacinG\n",
      "No of Upper case letter : 7\n",
      "No of Lower case letter : 6\n",
      "Original String :  THE cow AND Sheep RacinG\n",
      "No of Upper case letter : 7\n",
      "No of Lower case letter : 7\n",
      "Original String :  THE cow AND Sheep RacinG\n",
      "No of Upper case letter : 7\n",
      "No of Lower case letter : 7\n",
      "Original String :  THE cow AND Sheep RacinG\n",
      "No of Upper case letter : 8\n",
      "No of Lower case letter : 7\n",
      "Original String :  THE cow AND Sheep RacinG\n",
      "No of Upper case letter : 8\n",
      "No of Lower case letter : 8\n",
      "Original String :  THE cow AND Sheep RacinG\n",
      "No of Upper case letter : 8\n",
      "No of Lower case letter : 9\n",
      "Original String :  THE cow AND Sheep RacinG\n",
      "No of Upper case letter : 8\n",
      "No of Lower case letter : 10\n",
      "Original String :  THE cow AND Sheep RacinG\n",
      "No of Upper case letter : 8\n",
      "No of Lower case letter : 11\n",
      "Original String :  THE cow AND Sheep RacinG\n",
      "No of Upper case letter : 9\n",
      "No of Lower case letter : 11\n"
     ]
    }
   ],
   "source": [
    "#Q2 Upper case and lower case\n",
    "def string_test(s):\n",
    "    d={\"Upper case\" :0,\"Lower case\" :0}\n",
    "    for c in s :\n",
    "        if c.isupper():\n",
    "            d[\"Upper case\"]+=1\n",
    "        elif c.islower():\n",
    "            d[\"Lower case\"]+=1\n",
    "        else :\n",
    "            pass\n",
    "        print (\"Original String : \", s)\n",
    "        print(\"No of Upper case letter :\",d[\"Upper case\"])\n",
    "        print(\"No of Lower case letter :\",d[\"Lower case\"])\n",
    "string_test('THE cow AND Sheep RacinG')\n",
    "    "
   ]
  },
  {
   "cell_type": "code",
   "execution_count": 2,
   "metadata": {},
   "outputs": [
    {
     "name": "stdout",
     "output_type": "stream",
     "text": [
      "Original String :  The quick Brown Fox\n",
      "No. of Upper case characters :  3\n",
      "No. of Lower case Characters :  13\n"
     ]
    }
   ],
   "source": [
    "def string_test(s):\n",
    "    d={\"UPPER_CASE\":0, \"LOWER_CASE\":0}\n",
    "    for c in s:\n",
    "        if c.isupper():\n",
    "           d[\"UPPER_CASE\"]+=1\n",
    "        elif c.islower():\n",
    "           d[\"LOWER_CASE\"]+=1\n",
    "        else:\n",
    "           pass\n",
    "    print (\"Original String : \", s)\n",
    "    print (\"No. of Upper case characters : \", d[\"UPPER_CASE\"])\n",
    "    print (\"No. of Lower case Characters : \", d[\"LOWER_CASE\"])\n",
    "\n",
    "string_test('The quick Brown Fox')\n"
   ]
  },
  {
   "cell_type": "code",
   "execution_count": 12,
   "metadata": {},
   "outputs": [
    {
     "name": "stdout",
     "output_type": "stream",
     "text": [
      "[8]\n"
     ]
    }
   ],
   "source": [
    "def even_number(l):\n",
    "    num = []\n",
    "    for n in l :\n",
    "        if n % 2 == 0 :\n",
    "            num.append(n)\n",
    "            return num\n",
    "        \n",
    "return_numb=even_number([8,6,7,9,2,12,1,4])   \n",
    "print(return_numb)"
   ]
  },
  {
   "cell_type": "code",
   "execution_count": 13,
   "metadata": {},
   "outputs": [
    {
     "name": "stdout",
     "output_type": "stream",
     "text": [
      " Food items,detergents\n",
      " Jeans,shirts\n",
      " Necklace,Earing,bangles\n",
      " Dishes,Cups,bowls\n",
      "Shoes,Sandals\n",
      "cell phone\n"
     ]
    }
   ],
   "source": [
    "#Q6 shopping list\n",
    "def mart(grocery,clothes,jewellery,crockery,*others):\n",
    "    print(\" \"+grocery+\" \"+clothes+\" \"+jewellery+\" \"+crockery)\n",
    "    for other in others:\n",
    "        print(other)\n",
    "mart(\"Food items,detergents\\n\",\"Jeans,shirts\\n\",\"Necklace,Earing,bangles\\n\",\"Dishes,Cups,bowls\",\"Shoes,Sandals\",\"cell phone\")        \n"
   ]
  },
  {
   "cell_type": "code",
   "execution_count": null,
   "metadata": {},
   "outputs": [],
   "source": []
  }
 ],
 "metadata": {
  "kernelspec": {
   "display_name": "Python 3",
   "language": "python",
   "name": "python3"
  },
  "language_info": {
   "codemirror_mode": {
    "name": "ipython",
    "version": 3
   },
   "file_extension": ".py",
   "mimetype": "text/x-python",
   "name": "python",
   "nbconvert_exporter": "python",
   "pygments_lexer": "ipython3",
   "version": "3.7.4"
  }
 },
 "nbformat": 4,
 "nbformat_minor": 2
}
