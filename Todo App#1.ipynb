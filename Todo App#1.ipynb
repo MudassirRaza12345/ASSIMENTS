{
 "cells": [
  {
   "cell_type": "code",
   "execution_count": null,
   "metadata": {},
   "outputs": [
    {
     "name": "stdout",
     "output_type": "stream",
     "text": [
      "Elements in our list:\n",
      "\n",
      "Options\n",
      "1.Add Element\n",
      "2.Delete Element\n",
      "3.Delete All Element\n",
      "4.Exit\n",
      "Note:Please give input in numbers e.g: 1,2,3,4\n",
      "Enter your Choice: 1\n",
      "Enter your Elementghj\n",
      "\n",
      "xxxxxxxxxxx\n",
      "Elements in our list:\n",
      "->ghj\n",
      "\n",
      "Options\n",
      "1.Add Element\n",
      "2.Delete Element\n",
      "3.Delete All Element\n",
      "4.Exit\n",
      "Note:Please give input in numbers e.g: 1,2,3,4\n"
     ]
    }
   ],
   "source": [
    "elements = []\n",
    "\n",
    "while True:\n",
    "    \n",
    "    print(\"Elements in our list:\")\n",
    "    for element in elements:\n",
    "        print(\"->\"+element)\n",
    "        \n",
    "    print(\"\\nOptions\")   \n",
    "    print(\"1.Add Element\")\n",
    "    print(\"2.Delete Element\")\n",
    "    print(\"3.Delete All Element\")\n",
    "    print(\"4.Exit\")\n",
    "    print(\"Note:Please give input in numbers e.g: 1,2,3,4\")\n",
    "    \n",
    "    inp = input(\"Enter your Choice: \")\n",
    "    \n",
    "    if inp == '1':\n",
    "        elements.append(input(\"Enter your Element\"))\n",
    "    elif inp == '2':\n",
    "        elements.remove(input(\"Enter your element to delete:\"))\n",
    "    elif inp == '3':\n",
    "        elements.clear()\n",
    "    elif inp == '4':\n",
    "        break\n",
    "    else:\n",
    "        print(\"invalid Syntax\")\n",
    "        \n",
    "    print(\"\\nxxxxxxxxxxx\")\n",
    "    "
   ]
  },
  {
   "cell_type": "code",
   "execution_count": null,
   "metadata": {},
   "outputs": [],
   "source": [
    "#Main Menu\n",
    "#Add Tasks\n",
    "#view Tasks\n",
    "#Delete Tasks\n",
    "#Terminate APP\n",
    "\n",
    "def isInteger(userInput):\n",
    "    try:\n",
    "        int(userInput)\n",
    "        return True\n",
    "    except valueError:\n",
    "        return False\n",
    "\n",
    "def mainMenu(menu):\n",
    "    print(\"-------------------\\n     Main Menu    \\n--------------------\\n\")\n",
    "    for menukey,menuName in menu.items():\n",
    "        print(\"{}.{}\".format(menukey,menuName))\n",
    "    usercommand = input(\"Enter Command :\")\n",
    "    print(usercommand)\n",
    "    return usercommand\n",
    "menu = {\n",
    "    1 : \"Add Tasks\",\n",
    "    2 : \"View Tasks\",\n",
    "    3 : \"Delete Tasks\",\n",
    "    4 : \"Terminate App\",\n",
    "}\n",
    "\n",
    "while (True):\n",
    "    usercommand = mainMenu(menu)\n",
    "    \n",
    "    if isInteger(usercommand) == True:\n",
    "        usercommand = int(usercommand)\n",
    "        if usercommand > 0 and usercommand <= 4:\n",
    "            print(\"command Except\")\n",
    "        else:\n",
    "            print(Invalid Command , Try valid command)\n",
    "    else:\n",
    "        print(Invalid Command , Try valid command)"
   ]
  },
  {
   "cell_type": "code",
   "execution_count": null,
   "metadata": {},
   "outputs": [],
   "source": [
    "\n",
    "marks =\"89\"\n",
    "print(\"Marks:marks\")"
   ]
  },
  {
   "cell_type": "code",
   "execution_count": null,
   "metadata": {},
   "outputs": [],
   "source": [
    "marks =\"89\"\n",
    "print(\"Marks:{}\".format(marks))"
   ]
  },
  {
   "cell_type": "code",
   "execution_count": null,
   "metadata": {},
   "outputs": [],
   "source": [
    "marks =\"89\"\n",
    "percentage =\"89%\"\n",
    "print(\"Marks:{} - percentage{}\".format(marks,percentage))"
   ]
  },
  {
   "cell_type": "code",
   "execution_count": null,
   "metadata": {},
   "outputs": [],
   "source": []
  }
 ],
 "metadata": {
  "kernelspec": {
   "display_name": "Python 3",
   "language": "python",
   "name": "python3"
  },
  "language_info": {
   "codemirror_mode": {
    "name": "ipython",
    "version": 3
   },
   "file_extension": ".py",
   "mimetype": "text/x-python",
   "name": "python",
   "nbconvert_exporter": "python",
   "pygments_lexer": "ipython3",
   "version": "3.7.4"
  }
 },
 "nbformat": 4,
 "nbformat_minor": 2
}
