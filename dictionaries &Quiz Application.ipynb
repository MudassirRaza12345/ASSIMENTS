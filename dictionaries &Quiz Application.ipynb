{
 "cells": [
  {
   "cell_type": "code",
   "execution_count": 1,
   "metadata": {},
   "outputs": [
    {
     "name": "stdout",
     "output_type": "stream",
     "text": [
      "{'s.no': 3, 'question': 'what is your country name', 'option': ['pakistan', 'USA', 'africa', 'UAE'], 'answer': 'pakistan'}\n"
     ]
    }
   ],
   "source": [
    "questions = [\n",
    "    {\n",
    "      \"s.no\" : 1,\n",
    "       \"question\" : \"what is your country name\",\n",
    "        \"option\" : [\"pakistan\",\"USA\",\"UAE\",\"africa\"],\n",
    "        \"answer\" : \"pakistan\"\n",
    "            },\n",
    "    {\n",
    "         \"s.no\" : 2,\n",
    "       \"question\" : \"what is your country name\",\n",
    "        \"option\" : [\"pakistan\",\"USA\",\"UAE\",\"africa\"],\n",
    "        \"answer\" : \"pakistan\"\n",
    "            },\n",
    "    {\n",
    "         \"s.no\" : 3,\n",
    "       \"question\" : \"what is your country name\",\n",
    "        \"option\" : [\"pakistan\",\"USA\",\"africa\",\"UAE\"],\n",
    "        \"answer\" : \"pakistan\"\n",
    "            }\n",
    "]\n",
    "    \n",
    "print(questions[2])"
   ]
  },
  {
   "cell_type": "code",
   "execution_count": 2,
   "metadata": {},
   "outputs": [
    {
     "name": "stdout",
     "output_type": "stream",
     "text": [
      "what is your country name\n"
     ]
    }
   ],
   "source": [
    "print(questions[2][\"question\"])"
   ]
  },
  {
   "cell_type": "code",
   "execution_count": 3,
   "metadata": {},
   "outputs": [
    {
     "name": "stdout",
     "output_type": "stream",
     "text": [
      "africa\n"
     ]
    }
   ],
   "source": [
    "questions = [\n",
    "    {\n",
    "      \"s.no\" : 1,\n",
    "       \"question\" : \"what is your country name\",\n",
    "        \"option\" : [\"pakistan\",\"USA\",\"UAE\",\"africa\"],\n",
    "        \"answer\" : \"pakistan\"\n",
    "            },\n",
    "    {\n",
    "         \"s.no\" : 2,\n",
    "       \"question\" : \"what is your country name\",\n",
    "        \"option\" : [\"pakistan\",\"USA\",\"UAE\",\"africa\"],\n",
    "        \"answer\" : \"pakistan\"\n",
    "            },\n",
    "    {\n",
    "         \"s.no\" : 3,\n",
    "       \"question\" : \"what is your country name\",\n",
    "        \"option\" : [\"pakistan\",\"USA\",\"africa\",\"UAE\"],\n",
    "        \"answer\" : \"pakistan\"\n",
    "            }\n",
    "]\n",
    "    \n",
    "print(questions[2][\"option\"][2])"
   ]
  },
  {
   "cell_type": "code",
   "execution_count": 4,
   "metadata": {},
   "outputs": [
    {
     "name": "stdout",
     "output_type": "stream",
     "text": [
      "3\n",
      "[{'s.no': 1, 'question': 'what is your country name', 'option': ['pakistan', 'USA', 'UAE', 'africa'], 'answer': 'pakistan'}, {'s.no': 2, 'question': 'what is your country name', 'option': ['pakistan', 'USA', 'UAE', 'africa'], 'answer': 'pakistan'}, [{'s.no': 4, 'question': 'what is your country name', 'option': ['pakistan', 'USA', 'UAE', 'africa'], 'answer': 'pakistan'}], {'s.no': 3, 'question': 'what is your country name', 'option': ['pakistan', 'USA', 'UAE', 'africa'], 'answer': 'pakistan'}, [{'s.no': 4, 'question': 'what is your country name', 'option': ['pakistan', 'USA', 'UAE', 'africa'], 'answer': 'pakistan'}]]\n"
     ]
    }
   ],
   "source": [
    "questions = [\n",
    "    {\n",
    "      \"s.no\" : 1,\n",
    "       \"question\" : \"what is your country name\",\n",
    "        \"option\" : [\"pakistan\",\"USA\",\"UAE\",\"africa\"],\n",
    "        \"answer\" : \"pakistan\"\n",
    "            },\n",
    "    {\n",
    "         \"s.no\" : 2,\n",
    "       \"question\" : \"what is your country name\",\n",
    "        \"option\" : [\"pakistan\",\"USA\",\"UAE\",\"africa\"],\n",
    "        \"answer\" : \"pakistan\"\n",
    "            },\n",
    "    {\n",
    "         \"s.no\" : 3,\n",
    "       \"question\" : \"what is your country name\",\n",
    "        \"option\" : [\"pakistan\",\"USA\",\"UAE\",\"africa\"],\n",
    "        \"answer\" : \"pakistan\"\n",
    "            }\n",
    "]\n",
    "new_question=len(questions)\n",
    "print(new_question)\n",
    "new_question = [\n",
    "    {\n",
    "          \"s.no\" :4 ,\n",
    "       \"question\" : \"what is your country name\",\n",
    "        \"option\" : [\"pakistan\",\"USA\",\"UAE\",\"africa\"],\n",
    "        \"answer\" : \"pakistan\"\n",
    "         }\n",
    "    ]\n",
    "questions.append(new_question)\n",
    "questions.insert(2,new_question)\n",
    "print(questions)"
   ]
  },
  {
   "cell_type": "code",
   "execution_count": 5,
   "metadata": {},
   "outputs": [
    {
     "name": "stdout",
     "output_type": "stream",
     "text": [
      "UAE\n"
     ]
    }
   ],
   "source": [
    "questions = [\n",
    "    {\n",
    "      \"s.no\" : 1,\n",
    "       \"question\" : \"what is your country name\",\n",
    "        \"option\" : [\"pakistan\",\"USA\",\"UAE\",\"africa\"],\n",
    "        \"answer\" : \"pakistan\"\n",
    "            },\n",
    "    {\n",
    "         \"s.no\" : 2,\n",
    "       \"question\" : \"what is your country name\",\n",
    "        \"option\" : [\"pakistan\",\"USA\",\"UAE\",\"africa\"],\n",
    "        \"answer\" : \"pakistan\"\n",
    "            },\n",
    "    {\n",
    "         \"s.no\" : 3,\n",
    "       \"question\" : \"what is your country name\",\n",
    "        \"option\" : [\"pakistan\",\"USA\",\"africa\",\"UAE\"],\n",
    "        \"answer\" : \"pakistan\"\n",
    "            }\n",
    "]\n",
    "\n",
    "print(questions[2][\"option\"][3])"
   ]
  },
  {
   "cell_type": "code",
   "execution_count": 6,
   "metadata": {},
   "outputs": [
    {
     "name": "stdout",
     "output_type": "stream",
     "text": [
      "{'key': {'name': 'ali', 'father name': 'raza', 'age': 15}, 5: {'name': 'asad', 'father name': 'raza', 'age': 3}, 9: {'name': 'muhammad', 'father name': 'mohsin', 'age': 8}, 'value': {'name': 'ammad', 'father name': 'mohsi', 'age': 19}}\n"
     ]
    }
   ],
   "source": [
    "students ={\n",
    " \"key\" : {\"name\" : \"ali\",\n",
    "          \"father name\" : \"raza\",\n",
    "          \"age\" : 15\n",
    "         },\n",
    "  5 :  {\"name\" : \"asad\",\n",
    "     \"father name\" : \"raza\",\n",
    "          \"age\" : 3\n",
    "    },\n",
    "  9 : {\"name\" : \"muhammad\",\n",
    "     \"father name\" : \"mohsin\",\n",
    "          \"age\" : 8\n",
    "       },\n",
    "    \"value\" : {\"name\" : \"ammad\",\n",
    "               \"father name\" : \"mohsi\",\n",
    "               \n",
    "               \"age\" : 19\n",
    "              },\n",
    "}\n",
    "     \n",
    "print(students)\n",
    "    \n"
   ]
  },
  {
   "cell_type": "code",
   "execution_count": 7,
   "metadata": {},
   "outputs": [
    {
     "name": "stdout",
     "output_type": "stream",
     "text": [
      "asad\n"
     ]
    }
   ],
   "source": [
    "print(students[5][\"name\"])"
   ]
  },
  {
   "cell_type": "code",
   "execution_count": 8,
   "metadata": {},
   "outputs": [
    {
     "name": "stdout",
     "output_type": "stream",
     "text": [
      "1:what is your country name\n",
      "pakistan\n",
      "USA\n",
      "UAE\n",
      "africapakistan\n",
      "2:what is your city name\n",
      "hyderabad\n",
      "karachi\n",
      "kpk\n",
      "faislabadkarachi\n",
      "3:what is your capital name\n",
      "islamabad\n",
      "peshawar\n",
      "nwfp\n",
      "larkanaislamabad\n",
      "your score is : 3\n"
     ]
    }
   ],
   "source": [
    "questions = [\n",
    "    {\n",
    "      \"s.no\" : 1,\n",
    "       \"question\" : \"what is your country name\",\n",
    "     \"options\": [\"pakistan\",\"USA\",\"UAE\",\"africa\"],\n",
    "        \"answer\" : \"pakistan\"\n",
    "        },\n",
    "    {\n",
    "         \"s.no\" : 2,\n",
    "        \"question\" : \"what is your city name\",\n",
    "        \"options\": [\"hyderabad\",\"karachi\",\"kpk\",\"faislabad\"],\n",
    "        \"answer\" : \"karachi\"\n",
    "        },\n",
    "    {\n",
    "         \"s.no\" : 3,\n",
    "       \"question\" : \"what is your capital name\",\n",
    "       \"options\"  : [\"islamabad\",\"peshawar\",\"nwfp\",\"larkana\"],\n",
    "        \"answer\" : \"islamabad\"\n",
    "        },\n",
    "]\n",
    "\n",
    "score = 0\n",
    "\n",
    "for question in questions:\n",
    "    data = str(question[\"s.no\"]) + \":\" + question[\"question\"] + \"\\n\" + question[\"options\"][0] +\"\\n\"+question[\"options\"][1]+\"\\n\"+question[\"options\"][2]+\"\\n\"+question[\"options\"][3]\n",
    "    answer=input(data)\n",
    "    if answer == question[\"answer\"]:\n",
    "        score +=1\n",
    "        \n",
    "print(\"your score is : \" + str(score))\n",
    "  "
   ]
  },
  {
   "cell_type": "code",
   "execution_count": 9,
   "metadata": {},
   "outputs": [
    {
     "name": "stdout",
     "output_type": "stream",
     "text": [
      "Pakistan\n"
     ]
    }
   ],
   "source": [
    "cities={\n",
    "    \"Karachi\" : {\n",
    "        \"country\" : \"Pakistan\",\n",
    "        \"approx.population\" : \"2.14 million\",\n",
    "        \"fact about city\" : \"Largest cityof pakistan.Mostly trade are carried out in this city through port Qasim \"\n",
    "        },\n",
    "    \"Tehran\" : {\n",
    "        \"country\" : \"Iran\",\n",
    "        \"approx.population\" : \"81.16 million\",\n",
    "        \"fact about city\" : \"Largest city and capital of Iran.It is the hub country communication and transport  networks\"\n",
    "    },\n",
    "    \"Baghdad\" : {\n",
    "        \"country\" : \"Iraq\",\n",
    "        \"approx.population\" : \"37 milllion\",\n",
    "        \"fact about city\" : \"Largest city and capital of Iraq.It is largest city in united Arab\"\n",
    "    },\n",
    "    }\n",
    "print(cities[\"Karachi\"][\"country\"])"
   ]
  },
  {
   "cell_type": "code",
   "execution_count": 10,
   "metadata": {},
   "outputs": [
    {
     "name": "stdout",
     "output_type": "stream",
     "text": [
      "{'country': 'Pakistan', 'approx.population': '2.14 million', 'fact about city': 'Largest cityof pakistan.Mostly trade are carried out in this city through port Qasim '}\n"
     ]
    }
   ],
   "source": [
    "cities={\n",
    "    \"Karachi\" : {\n",
    "        \"country\" : \"Pakistan\",\n",
    "        \"approx.population\" : \"2.14 million\",\n",
    "        \"fact about city\" : \"Largest cityof pakistan.Mostly trade are carried out in this city through port Qasim \"\n",
    "        },\n",
    "    \"Tehran\" : {\n",
    "        \"country\" : \"Iran\",\n",
    "        \"approx.population\" : \"81.16 million\",\n",
    "        \"fact about city\" : \"Largest city and capital of Iran.It is the hub country communication and transport  networks\"\n",
    "    },\n",
    "    \"Baghdad\" : {\n",
    "        \"country\" : \"Iraq\",\n",
    "        \"approx.population\" : \"37 milllion\",\n",
    "        \"fact about city\" : \"Largest city and capital of Iraq.It is largest city in united Arab\"\n",
    "    },\n",
    "    }\n",
    "print(cities[\"Karachi\"])"
   ]
  },
  {
   "cell_type": "code",
   "execution_count": 11,
   "metadata": {},
   "outputs": [
    {
     "name": "stdout",
     "output_type": "stream",
     "text": [
      "city  name: Karachi\n",
      "country name: Pakistan\n",
      "approx.population: 2.14 million\n",
      "fact about city: Largest cityof pakistan.Mostly trade are carried out in this city through port Qasim \n",
      "\n",
      "\n",
      "city  name: Tehran\n",
      "country name: Iran\n",
      "approx.population: 81.16 million\n",
      "fact about city: Largest city and capital of Iran.It is the hub country communication and transport  networks\n",
      "\n",
      "\n",
      "city  name: Baghdad\n",
      "country name: Iraq\n",
      "approx.population: 37 milllion\n",
      "fact about city: Largest city and capital of Iraq.It is largest city in united Arab\n",
      "\n",
      "\n"
     ]
    }
   ],
   "source": [
    "cities={\n",
    "    \"Karachi\" : {\n",
    "        \"country\" : \"Pakistan\",\n",
    "        \"approx.population\" : \"2.14 million\",\n",
    "        \"fact about city\" : \"Largest cityof pakistan.Mostly trade are carried out in this city through port Qasim \"\n",
    "        },\n",
    "    \"Tehran\" : {\n",
    "        \"country\" : \"Iran\",\n",
    "        \"approx.population\" : \"81.16 million\",\n",
    "        \"fact about city\" : \"Largest city and capital of Iran.It is the hub country communication and transport  networks\"\n",
    "    },\n",
    "    \"Baghdad\" : {\n",
    "        \"country\" : \"Iraq\",\n",
    "        \"approx.population\" : \"37 milllion\",\n",
    "        \"fact about city\" : \"Largest city and capital of Iraq.It is largest city in united Arab\"\n",
    "    },\n",
    "    }\n",
    "for a in cities.keys():\n",
    "    print(\"city  name\" + \":\" + \" \" + a)\n",
    "    print(\"country name\" + \":\" + \" \" + cities[a][\"country\"])\n",
    "    print(\"approx.population\" + \":\" + \" \" + cities[a][\"approx.population\"])\n",
    "    print(\"fact about city\" + \":\" + \" \" + cities[a][\"fact about city\"])\n",
    "    print(\"\\n\")\n"
   ]
  },
  {
   "cell_type": "code",
   "execution_count": null,
   "metadata": {},
   "outputs": [],
   "source": []
  },
  {
   "cell_type": "code",
   "execution_count": 12,
   "metadata": {},
   "outputs": [
    {
     "name": "stdout",
     "output_type": "stream",
     "text": [
      "Guess a number one through one hundred: 78\n",
      "too low\n",
      "Guess a number one through one hundred: 90\n",
      "too high\n",
      "Guess a number one through one hundred: 80\n",
      "You got it!\n"
     ]
    }
   ],
   "source": [
    "from random import randint\n",
    "it = randint(0, 101)\n",
    "def guess():\n",
    "    while True:\n",
    "        x = int(input('Guess a number one through one hundred: '))\n",
    "        if x == it:\n",
    "            print(\"You got it!\")\n",
    "            break\n",
    "        elif x > it:\n",
    "            print(\"too high\")\n",
    "        else:\n",
    "            print(\"too low\")\n",
    "guess()"
   ]
  },
  {
   "cell_type": "code",
   "execution_count": 13,
   "metadata": {},
   "outputs": [
    {
     "ename": "SyntaxError",
     "evalue": "invalid syntax (<ipython-input-13-5783e70b787b>, line 6)",
     "output_type": "error",
     "traceback": [
      "\u001b[1;36m  File \u001b[1;32m\"<ipython-input-13-5783e70b787b>\"\u001b[1;36m, line \u001b[1;32m6\u001b[0m\n\u001b[1;33m    elif x > it:\u001b[0m\n\u001b[1;37m       ^\u001b[0m\n\u001b[1;31mSyntaxError\u001b[0m\u001b[1;31m:\u001b[0m invalid syntax\n"
     ]
    }
   ],
   "source": [
    "from random import randint\n",
    "def guess(x):\n",
    "    it = randint(1, 30)\n",
    "    if x == it:\n",
    "        print(\"You got it!\")\n",
    "        elif x > it:\n",
    "            print(\"too high\")\n",
    "    else:\n",
    "        print(\"too low\")\n",
    "        print guess(50)"
   ]
  },
  {
   "cell_type": "code",
   "execution_count": 14,
   "metadata": {},
   "outputs": [
    {
     "name": "stdout",
     "output_type": "stream",
     "text": [
      "Guess a number one through one hundred: 78\n",
      "too high\n",
      "Guess a number one through one hundred: 60\n",
      "too high\n",
      "Guess a number one through one hundred: 50\n",
      "too low\n",
      "Guess a number one through one hundred: 55\n",
      "too high\n",
      "Guess a number one through one hundred: 52\n",
      "too low\n",
      "Guess a number one through one hundred: 54\n",
      "too high\n",
      "Guess a number one through one hundred: 51\n",
      "too low\n",
      "Guess a number one through one hundred: 54\n",
      "too high\n",
      "Guess a number one through one hundred: 53\n",
      "You got it!\n"
     ]
    }
   ],
   "source": [
    "from random import randint\n",
    "it = randint(0, 101)\n",
    "def guess():\n",
    "    while True:\n",
    "        x = int(input('Guess a number one through one hundred: '))\n",
    "        if x == it:\n",
    "            print(\"You got it!\")\n",
    "            break\n",
    "        elif x > it:\n",
    "            print(\"too high\")\n",
    "        else:\n",
    "            print(\"too low\")\n",
    "guess()"
   ]
  },
  {
   "cell_type": "code",
   "execution_count": null,
   "metadata": {},
   "outputs": [],
   "source": []
  }
 ],
 "metadata": {
  "kernelspec": {
   "display_name": "Python 3",
   "language": "python",
   "name": "python3"
  },
  "language_info": {
   "codemirror_mode": {
    "name": "ipython",
    "version": 3
   },
   "file_extension": ".py",
   "mimetype": "text/x-python",
   "name": "python",
   "nbconvert_exporter": "python",
   "pygments_lexer": "ipython3",
   "version": "3.7.4"
  }
 },
 "nbformat": 4,
 "nbformat_minor": 2
}
