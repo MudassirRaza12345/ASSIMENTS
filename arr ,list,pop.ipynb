{
 "cells": [
  {
   "cell_type": "code",
   "execution_count": 2,
   "metadata": {},
   "outputs": [
    {
     "name": "stdout",
     "output_type": "stream",
     "text": [
      "0\n"
     ]
    }
   ],
   "source": [
    "a=5;\n",
    "b=6;\n",
    "c=7;\n",
    "d=7;\n",
    "e=9;\n",
    "f=11;\n",
    "x=12;\n",
    "y=12;\n",
    "h=0;\n",
    "if c == d :\n",
    "    if x == y :\n",
    "        g = h\n",
    "        print(g)\n",
    "    elif a == b :\n",
    "        g = h\n",
    "        print(g)\n",
    "    else :\n",
    "        e = f\n",
    "        print(e)\n",
    "else :\n",
    "        e = f\n",
    "        print(e)\n"
   ]
  },
  {
   "cell_type": "code",
   "execution_count": 14,
   "metadata": {},
   "outputs": [
    {
     "name": "stdout",
     "output_type": "stream",
     "text": [
      "welcome Ali and   Haider\n"
     ]
    }
   ],
   "source": [
    "arr = [\"Ali\",\"Haider\",\"Salman\",25,\"false\",0.9]\n",
    "print(\"welcome\"+\" \"+ arr[0]+\" and   \"+arr[1])"
   ]
  },
  {
   "cell_type": "code",
   "execution_count": 43,
   "metadata": {},
   "outputs": [
    {
     "name": "stdout",
     "output_type": "stream",
     "text": [
      "['Ali', 'Raza', 25, 'false', 0.9]\n"
     ]
    }
   ],
   "source": [
    "arr.remove(\"Salman\")\n",
    "print(arr)"
   ]
  },
  {
   "cell_type": "code",
   "execution_count": 45,
   "metadata": {},
   "outputs": [
    {
     "name": "stdout",
     "output_type": "stream",
     "text": [
      "['Ali', 'Haider', 'Salman', 25, 'false', 0.9, 'umer']\n"
     ]
    }
   ],
   "source": [
    "arr = [\"Ali\",\"Haider\",\"Salman\",25,\"false\",0.9]\n",
    "arr.append(\"umer\")\n",
    "print(arr)"
   ]
  },
  {
   "cell_type": "code",
   "execution_count": 29,
   "metadata": {},
   "outputs": [
    {
     "name": "stdout",
     "output_type": "stream",
     "text": [
      "['Ali', 'Haider', 'Salman', 25, 'false', 0.9, 'Faraza', 'Ahmed']\n"
     ]
    }
   ],
   "source": [
    "arr = [\"Ali\",\"Haider\",\"Salman\",25,\"false\",0.9]\n",
    "arr1=arr+[\"Faraza\",\"Ahmed\"]\n",
    "print(arr1)"
   ]
  },
  {
   "cell_type": "code",
   "execution_count": 31,
   "metadata": {},
   "outputs": [
    {
     "name": "stdout",
     "output_type": "stream",
     "text": [
      "['Ali', 'Haider', 'Raza', 'Salman', 25, 'false', 0.9, 'Faraza', 'Ahmed']\n"
     ]
    }
   ],
   "source": [
    "arr1.insert(2,\"Raza\")\n",
    "print(arr1)"
   ]
  },
  {
   "cell_type": "code",
   "execution_count": 7,
   "metadata": {},
   "outputs": [
    {
     "name": "stdout",
     "output_type": "stream",
     "text": [
      "['Haider', 'Ali', 'Raza', 'Salman', 25, 'false', 0.9, 'Faraza', 'Ahmed']\n"
     ]
    }
   ],
   "source": [
    "arr1 = ['Ali', 'Haider', 'Raza', 'Salman', 25, 'false', 0.9, 'Faraza', 'Ahmed']\n",
    "\n",
    "arr1.insert(1,arr1.pop(0))\n",
    "print(arr1)"
   ]
  },
  {
   "cell_type": "code",
   "execution_count": 11,
   "metadata": {},
   "outputs": [
    {
     "name": "stdout",
     "output_type": "stream",
     "text": [
      "Ahmed\n"
     ]
    }
   ],
   "source": [
    "arr = ['Ali', 'Haider', 'Raza', 'Salman', 25, 'false', 0.9, 'Faraza', 'Ahmed']\n",
    "\n",
    "arr1=arr.pop()\n",
    "print(arr1)"
   ]
  },
  {
   "cell_type": "code",
   "execution_count": 12,
   "metadata": {},
   "outputs": [
    {
     "name": "stdout",
     "output_type": "stream",
     "text": [
      "false\n"
     ]
    }
   ],
   "source": [
    "arr = ['Ali', 'Haider', 'Raza', 'Salman', 25, 'false', 0.9, 'Faraza', 'Ahmed']\n",
    "\n",
    "arr1=arr.pop(5)\n",
    "print(arr1)"
   ]
  },
  {
   "cell_type": "code",
   "execution_count": 32,
   "metadata": {},
   "outputs": [
    {
     "name": "stdout",
     "output_type": "stream",
     "text": [
      "['Ali', 'Haider', 'Raza', 'Salman', 25, 'true', 0.9, 'Faraza', 'Ahmed']\n"
     ]
    }
   ],
   "source": [
    "arr1[5]=\"true\"\n",
    "print(arr1)"
   ]
  },
  {
   "cell_type": "code",
   "execution_count": 34,
   "metadata": {},
   "outputs": [
    {
     "name": "stdout",
     "output_type": "stream",
     "text": [
      "[25, 'true', 0.9]\n"
     ]
    }
   ],
   "source": [
    "arr2=arr1[2:7]\n",
    "print(arr2)"
   ]
  },
  {
   "cell_type": "code",
   "execution_count": 35,
   "metadata": {},
   "outputs": [
    {
     "name": "stdout",
     "output_type": "stream",
     "text": [
      "['Raza', 'Salman', 25, 'true', 0.9]\n"
     ]
    }
   ],
   "source": [
    "arr1=['Ali', 'Haider', 'Raza', 'Salman', 25, 'true', 0.9, 'Faraza', 'Ahmed']\n",
    "arr2=arr1[2 : 7]\n",
    "print(arr2)"
   ]
  },
  {
   "cell_type": "code",
   "execution_count": 36,
   "metadata": {},
   "outputs": [
    {
     "data": {
      "text/plain": [
       "['Ali', 'Haider', 'Raza', 'Salman', 25, 'true', 0.9, 'Faraza', 'Ahmed']"
      ]
     },
     "execution_count": 36,
     "metadata": {},
     "output_type": "execute_result"
    }
   ],
   "source": [
    "arr1"
   ]
  },
  {
   "cell_type": "code",
   "execution_count": 37,
   "metadata": {},
   "outputs": [
    {
     "name": "stdout",
     "output_type": "stream",
     "text": [
      "['Ali', 'Haider', 'Raza', 'Salman', 25]\n"
     ]
    }
   ],
   "source": [
    "arr3=arr[:5]\n",
    "print(arr3)"
   ]
  },
  {
   "cell_type": "code",
   "execution_count": 38,
   "metadata": {},
   "outputs": [
    {
     "name": "stdout",
     "output_type": "stream",
     "text": [
      "['Ali', 'Raza', 'Salman', 25, 'false', 0.9]\n"
     ]
    }
   ],
   "source": [
    "del arr[1]\n",
    "print(arr)"
   ]
  },
  {
   "cell_type": "code",
   "execution_count": 44,
   "metadata": {},
   "outputs": [
    {
     "name": "stdout",
     "output_type": "stream",
     "text": [
      "['Ali', 'Raza', 25, 'false', 0.9]\n"
     ]
    }
   ],
   "source": [
    "arr=['Ali', 'Raza', 'Salman', 25, 'false', 0.9]\n",
    "arr.remove(\"Salman\")\n",
    "print(arr) "
   ]
  },
  {
   "cell_type": "code",
   "execution_count": 46,
   "metadata": {},
   "outputs": [
    {
     "data": {
      "text/plain": [
       "['Ali', 'Haider', 'Salman', 25, 'false', 0.9, 'umer']"
      ]
     },
     "execution_count": 46,
     "metadata": {},
     "output_type": "execute_result"
    }
   ],
   "source": [
    "arr"
   ]
  },
  {
   "cell_type": "code",
   "execution_count": 47,
   "metadata": {},
   "outputs": [
    {
     "name": "stdout",
     "output_type": "stream",
     "text": [
      "['Ali', 'Salman', 25, 'false', 0.9, 'umer']\n"
     ]
    }
   ],
   "source": [
    "del arr[1]\n",
    "print(arr)"
   ]
  },
  {
   "cell_type": "code",
   "execution_count": 49,
   "metadata": {},
   "outputs": [
    {
     "name": "stdout",
     "output_type": "stream",
     "text": [
      "Salman\n"
     ]
    }
   ],
   "source": [
    "arr4=arr.pop(1)\n",
    "print(arr4)"
   ]
  },
  {
   "cell_type": "code",
   "execution_count": 4,
   "metadata": {},
   "outputs": [
    {
     "name": "stdout",
     "output_type": "stream",
     "text": [
      "['Haider', 'Ali', 'Raza', 'Salman', 25, 'true', 0.9, 'Faraza', 'Ahmed']\n"
     ]
    }
   ],
   "source": [
    "arr = ['Ali', 'Haider', 'Raza', 'Salman', 25, 'true', 0.9, 'Faraza', 'Ahmed']\n",
    "arr.insert(0,arr.pop(1))\n",
    "print(arr)"
   ]
  },
  {
   "cell_type": "code",
   "execution_count": null,
   "metadata": {},
   "outputs": [],
   "source": []
  },
  {
   "cell_type": "code",
   "execution_count": null,
   "metadata": {},
   "outputs": [],
   "source": []
  },
  {
   "cell_type": "code",
   "execution_count": null,
   "metadata": {},
   "outputs": [],
   "source": []
  }
 ],
 "metadata": {
  "kernelspec": {
   "display_name": "Python 3",
   "language": "python",
   "name": "python3"
  },
  "language_info": {
   "codemirror_mode": {
    "name": "ipython",
    "version": 3
   },
   "file_extension": ".py",
   "mimetype": "text/x-python",
   "name": "python",
   "nbconvert_exporter": "python",
   "pygments_lexer": "ipython3",
   "version": "3.7.4"
  }
 },
 "nbformat": 4,
 "nbformat_minor": 2
}
