{
 "cells": [
  {
   "cell_type": "code",
   "execution_count": 1,
   "metadata": {},
   "outputs": [
    {
     "name": "stdout",
     "output_type": "stream",
     "text": [
      "Enter the conditionlow\n",
      "buy_score+=5\n"
     ]
    }
   ],
   "source": [
    "buy_score = 0\n",
    "donut_condition =input(\"Enter the condition\")\n",
    "if donut_condition == \"fresh\" :\n",
    "    print(\"buy_score+=10\")\n",
    "elif donut_condition == \"low\" :\n",
    "    print(\"buy_score+=5\")\n",
    "else :\n",
    "    print(\"buy_score+=0\")"
   ]
  },
  {
   "cell_type": "code",
   "execution_count": null,
   "metadata": {},
   "outputs": [],
   "source": [
    "\n",
    "donut_condition =input(\"Enter the condition\")\n",
    "if donut_condition == \"fresh\" :\n",
    "    print(\"buy_score += 10\")\n",
    "elif donut_filling == \"chocolate\" :\n",
    "    print(\"buy_score += 5\")\n",
    "if donut_price == \"reasonable\" :\n",
    "    print(\"buy_score += 7\")"
   ]
  },
  {
   "cell_type": "code",
   "execution_count": null,
   "metadata": {},
   "outputs": [],
   "source": []
  },
  {
   "cell_type": "code",
   "execution_count": null,
   "metadata": {},
   "outputs": [],
   "source": []
  }
 ],
 "metadata": {
  "kernelspec": {
   "display_name": "Python 3",
   "language": "python",
   "name": "python3"
  },
  "language_info": {
   "codemirror_mode": {
    "name": "ipython",
    "version": 3
   },
   "file_extension": ".py",
   "mimetype": "text/x-python",
   "name": "python",
   "nbconvert_exporter": "python",
   "pygments_lexer": "ipython3",
   "version": "3.7.4"
  }
 },
 "nbformat": 4,
 "nbformat_minor": 2
}
