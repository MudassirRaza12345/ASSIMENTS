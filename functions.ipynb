{
 "cells": [
  {
   "cell_type": "code",
   "execution_count": 2,
   "metadata": {
    "slideshow": {
     "slide_type": "skip"
    }
   },
   "outputs": [
    {
     "name": "stdout",
     "output_type": "stream",
     "text": [
      "39\n",
      "39\n"
     ]
    }
   ],
   "source": [
    "def addition():\n",
    "    a=5\n",
    "    b=34\n",
    "    sum=a+b\n",
    "    print(sum)\n",
    "addition()    \n",
    "addition()   "
   ]
  },
  {
   "cell_type": "code",
   "execution_count": 3,
   "metadata": {},
   "outputs": [
    {
     "name": "stdout",
     "output_type": "stream",
     "text": [
      "61\n",
      "352\n",
      "101\n",
      "74\n",
      "112\n",
      "135\n"
     ]
    }
   ],
   "source": [
    "def addition(a,b):\n",
    "    sum=a+b\n",
    "    print(sum)\n",
    "addition(52,9)    \n",
    "addition(345,7)  \n",
    "addition(98,3)\n",
    "addition(65,9)\n",
    "addition(34,78)\n",
    "addition(45,90)"
   ]
  },
  {
   "cell_type": "code",
   "execution_count": null,
   "metadata": {},
   "outputs": [],
   "source": []
  },
  {
   "cell_type": "code",
   "execution_count": 4,
   "metadata": {},
   "outputs": [
    {
     "name": "stdout",
     "output_type": "stream",
     "text": [
      "61\n",
      "\n",
      "\n",
      "468\n",
      "\n",
      "\n",
      "0.17307692307692307\n",
      "\n",
      "\n",
      "43\n",
      "\n",
      "\n",
      "352\n",
      "\n",
      "\n",
      "2415\n",
      "\n",
      "\n",
      "0.020289855072463767\n",
      "\n",
      "\n",
      "338\n",
      "\n",
      "\n",
      "101\n",
      "\n",
      "\n",
      "294\n",
      "\n",
      "\n",
      "0.030612244897959183\n",
      "\n",
      "\n",
      "95\n",
      "\n",
      "\n",
      "74\n",
      "\n",
      "\n",
      "585\n",
      "\n",
      "\n",
      "0.13846153846153847\n",
      "\n",
      "\n",
      "56\n",
      "\n",
      "\n",
      "112\n",
      "\n",
      "\n",
      "2652\n",
      "\n",
      "\n",
      "2.2941176470588234\n",
      "\n",
      "\n",
      "-44\n",
      "\n",
      "\n",
      "135\n",
      "\n",
      "\n",
      "4050\n",
      "\n",
      "\n",
      "2.0\n",
      "\n",
      "\n",
      "-45\n",
      "\n",
      "\n"
     ]
    }
   ],
   "source": [
    "def addition(a,b):\n",
    "    sum=a+b\n",
    "    mul=a*b\n",
    "    div=b/a\n",
    "    sub=a-b\n",
    "    print(sum )\n",
    "    print(\"\\n\")\n",
    "    print(mul)\n",
    "    print(\"\\n\")\n",
    "    print(div )\n",
    "    print(\"\\n\")\n",
    "    print(sub )\n",
    "    print(\"\\n\")\n",
    "addition(52,9)    \n",
    "addition(345,7)  \n",
    "addition(98,3)\n",
    "addition(65,9)\n",
    "addition(34,78)\n",
    "addition(45,90)"
   ]
  },
  {
   "cell_type": "code",
   "execution_count": 5,
   "metadata": {},
   "outputs": [
    {
     "name": "stdout",
     "output_type": "stream",
     "text": [
      "68\n",
      "397\n",
      "106\n",
      "80\n",
      "117\n",
      "144\n"
     ]
    }
   ],
   "source": [
    "def addition(a,b,c):\n",
    "    sum=a+b+c\n",
    "    print(sum)\n",
    "addition(52,9,7)    \n",
    "addition(345,7,45)  \n",
    "addition(98,3,5)\n",
    "addition(65,9,6)\n",
    "addition(34,78,5)\n",
    "addition(45,90,9)"
   ]
  },
  {
   "cell_type": "code",
   "execution_count": 3,
   "metadata": {},
   "outputs": [
    {
     "name": "stdout",
     "output_type": "stream",
     "text": [
      "23\n",
      "100\n",
      "25\n",
      "26\n",
      "54\n",
      "108\n"
     ]
    }
   ],
   "source": [
    "def addition(a,b,c,d):\n",
    "    sum=a+b+c+d\n",
    "    print(sum)\n",
    "addition(5,2,9,7)    \n",
    "addition(3,45,7,45)  \n",
    "addition(9,8,3,5)\n",
    "addition(6,5,9,6)\n",
    "addition(34,7,8,5)\n",
    "addition(4,5,90,9)"
   ]
  },
  {
   "cell_type": "code",
   "execution_count": 7,
   "metadata": {},
   "outputs": [
    {
     "name": "stdout",
     "output_type": "stream",
     "text": [
      "14\n"
     ]
    }
   ],
   "source": [
    "def addition(a,b,c,d):\n",
    "    sum=a+b+c\n",
    "    print(sum)\n",
    "a=6\n",
    "b=4\n",
    "c=4\n",
    "d=6\n",
    "addition(a,b,c,d)"
   ]
  },
  {
   "cell_type": "code",
   "execution_count": 8,
   "metadata": {},
   "outputs": [
    {
     "name": "stdout",
     "output_type": "stream",
     "text": [
      "20\n"
     ]
    }
   ],
   "source": [
    "a=6\n",
    "b=4\n",
    "c=4\n",
    "d=6\n",
    "def addition(a,b,c,d):\n",
    "    sum=a+b+c+d\n",
    "    print(sum)\n",
    "addition(a,b,c,d)"
   ]
  },
  {
   "cell_type": "code",
   "execution_count": 9,
   "metadata": {},
   "outputs": [
    {
     "name": "stdout",
     "output_type": "stream",
     "text": [
      "20\n"
     ]
    }
   ],
   "source": [
    "a=6\n",
    "b=4\n",
    "c=4\n",
    "d=6\n",
    "def addition(r,g,f,t):\n",
    "    sum=r+g+f+t\n",
    "    print(sum)\n",
    "addition(a,b,c,d)"
   ]
  },
  {
   "cell_type": "code",
   "execution_count": 10,
   "metadata": {},
   "outputs": [
    {
     "name": "stdout",
     "output_type": "stream",
     "text": [
      "Hello Pakistan \n",
      " welcome \n",
      " summer\n",
      " hot\n",
      "\n"
     ]
    }
   ],
   "source": [
    "greeting = \"Hello Pakistan \\n\"\n",
    "entering = \"welcome \\n\"\n",
    "season = \"summer\\n\"\n",
    "temperature = \"hot\\n\"\n",
    "def user(greeting,entering,season,temperature):\n",
    "    print(greeting,entering,season,temperature)\n",
    "user(greeting,entering,season,temperature)   \n",
    "    \n"
   ]
  },
  {
   "cell_type": "code",
   "execution_count": 11,
   "metadata": {},
   "outputs": [
    {
     "name": "stdout",
     "output_type": "stream",
     "text": [
      "Hello Pakistan \n",
      " welcome \n",
      " summer\n",
      " hot\n",
      "\n"
     ]
    }
   ],
   "source": [
    "def user(a,b,c,d):\n",
    "    print(a,b,c,d)\n",
    "    \n",
    "greeting = \"Hello Pakistan \\n\"\n",
    "entering = \"welcome \\n\"\n",
    "season = \"summer\\n\"\n",
    "temperature = \"hot\\n\"    \n",
    "user(greeting,entering,season,temperature)   \n",
    "    \n"
   ]
  },
  {
   "cell_type": "code",
   "execution_count": 12,
   "metadata": {},
   "outputs": [
    {
     "name": "stdout",
     "output_type": "stream",
     "text": [
      "Hello Pakistan \n",
      " welcome \n",
      " summer\n",
      " hot\n",
      "\n"
     ]
    }
   ],
   "source": [
    "greeting = \"Hello Pakistan \\n\"\n",
    "entering = \"welcome \\n\"\n",
    "season = \"summer\\n\"\n",
    "temperature = \"hot\\n\" \n",
    "def user(a,b,c,d):#parameter\n",
    "    print(a,b,c,d)\n",
    "   \n",
    "user(greeting,entering,season,temperature)#Arguments   "
   ]
  },
  {
   "cell_type": "code",
   "execution_count": 13,
   "metadata": {},
   "outputs": [
    {
     "name": "stdout",
     "output_type": "stream",
     "text": [
      "zakir\n",
      " shamim\n",
      "\n"
     ]
    }
   ],
   "source": [
    "def cuple(husband,wife):\n",
    "    print(husband,wife)\n",
    "cuple(husband='zakir\\n',wife='shamim\\n')    \n"
   ]
  },
  {
   "cell_type": "code",
   "execution_count": 14,
   "metadata": {},
   "outputs": [
    {
     "name": "stdout",
     "output_type": "stream",
     "text": [
      "mudassirraza\n"
     ]
    }
   ],
   "source": [
    "def username(firstname,lastname):\n",
    "    fullname=firstname+lastname\n",
    "    print(fullname)\n",
    "username(firstname='mudassir',lastname='raza')    \n"
   ]
  },
  {
   "cell_type": "code",
   "execution_count": 15,
   "metadata": {},
   "outputs": [
    {
     "name": "stdout",
     "output_type": "stream",
     "text": [
      "razamudassir\n"
     ]
    }
   ],
   "source": [
    "def username(firstname,lastname):\n",
    "    fullname=lastname+firstname\n",
    "    print(fullname)\n",
    "username(firstname='mudassir',lastname='raza')    \n"
   ]
  },
  {
   "cell_type": "code",
   "execution_count": 5,
   "metadata": {},
   "outputs": [
    {
     "name": "stdout",
     "output_type": "stream",
     "text": [
      "mudassirraza\n"
     ]
    }
   ],
   "source": [
    "def username(lastname,firstname,):\n",
    "    fullname=firstname+lastname\n",
    "    print(fullname)\n",
    "username(firstname='mudassir',lastname='raza')    \n"
   ]
  },
  {
   "cell_type": "code",
   "execution_count": 7,
   "metadata": {},
   "outputs": [
    {
     "name": "stdout",
     "output_type": "stream",
     "text": [
      "razamudassir\n"
     ]
    }
   ],
   "source": [
    "def username(lastname,firstname,):\n",
    "    fullname=lastname+firstname\n",
    "    print(fullname)\n",
    "username(firstname='mudassir',lastname='raza')    \n"
   ]
  },
  {
   "cell_type": "code",
   "execution_count": 17,
   "metadata": {},
   "outputs": [
    {
     "name": "stdout",
     "output_type": "stream",
     "text": [
      "39\n"
     ]
    }
   ],
   "source": [
    "def addition(a,b):\n",
    "    sum=a+b\n",
    "    print(sum)\n",
    "addition(a=5,b=34)    "
   ]
  },
  {
   "cell_type": "code",
   "execution_count": null,
   "metadata": {},
   "outputs": [],
   "source": []
  },
  {
   "cell_type": "code",
   "execution_count": 8,
   "metadata": {
    "scrolled": true
   },
   "outputs": [
    {
     "name": "stdout",
     "output_type": "stream",
     "text": [
      "5\n"
     ]
    }
   ],
   "source": [
    "firstnum = 2\n",
    "secondnum =3 \n",
    "def addnum(num1,num2):\n",
    "    result =num1+num2\n",
    "    print(result)\n",
    "addnum(firstnum,secondnum)\n"
   ]
  },
  {
   "cell_type": "code",
   "execution_count": 9,
   "metadata": {},
   "outputs": [
    {
     "name": "stdout",
     "output_type": "stream",
     "text": [
      "5\n"
     ]
    }
   ],
   "source": [
    "firstnum = 2\n",
    "secondnum =3 \n",
    "def addnum(a,b):\n",
    "    result =a+b\n",
    "    print(result)\n",
    "addnum(firstnum,secondnum)\n"
   ]
  },
  {
   "cell_type": "code",
   "execution_count": 19,
   "metadata": {},
   "outputs": [
    {
     "name": "stdout",
     "output_type": "stream",
     "text": [
      "-4\n"
     ]
    }
   ],
   "source": [
    "firstnum =8 \n",
    "secondnum =4\n",
    "def addnum(secondnum,firstnum):\n",
    "    result =firstnum-secondnum\n",
    "    print(result)\n",
    "addnum(firstnum,secondnum)\n"
   ]
  },
  {
   "cell_type": "code",
   "execution_count": 20,
   "metadata": {},
   "outputs": [
    {
     "name": "stdout",
     "output_type": "stream",
     "text": [
      "4\n"
     ]
    }
   ],
   "source": [
    "firstnum =8 \n",
    "secondnum =4\n",
    "def addnum(eight,four):\n",
    "    result =eight-four\n",
    "    print(result)\n",
    "addnum(firstnum,secondnum)\n"
   ]
  },
  {
   "cell_type": "code",
   "execution_count": 21,
   "metadata": {},
   "outputs": [
    {
     "name": "stdout",
     "output_type": "stream",
     "text": [
      "4\n"
     ]
    }
   ],
   "source": [
    "firstnum =8 \n",
    "def addnum(eight,four=4):\n",
    "    result =eight-four\n",
    "    print(result)\n",
    "addnum(firstnum)"
   ]
  },
  {
   "cell_type": "code",
   "execution_count": 22,
   "metadata": {},
   "outputs": [
    {
     "ename": "SyntaxError",
     "evalue": "non-default argument follows default argument (<ipython-input-22-f773240b0e4f>, line 2)",
     "output_type": "error",
     "traceback": [
      "\u001b[1;36m  File \u001b[1;32m\"<ipython-input-22-f773240b0e4f>\"\u001b[1;36m, line \u001b[1;32m2\u001b[0m\n\u001b[1;33m    def course(institute,language=\"python programming\",duration):\u001b[0m\n\u001b[1;37m              ^\u001b[0m\n\u001b[1;31mSyntaxError\u001b[0m\u001b[1;31m:\u001b[0m non-default argument follows default argument\n"
     ]
    }
   ],
   "source": [
    "institute=\"SMITH\"\n",
    "def course(institute,language=\"python programming\",duration):\n",
    "    print(institute+\"  \"+language+\"  \"+duration)\n",
    "course(institute,language,duration=\"3 months\")    "
   ]
  },
  {
   "cell_type": "code",
   "execution_count": 10,
   "metadata": {},
   "outputs": [
    {
     "name": "stdout",
     "output_type": "stream",
     "text": [
      "SMITH  python programming  3 months\n"
     ]
    }
   ],
   "source": [
    "institute=\"SMITH\" #default parameter value always comes in last\n",
    "def course(institute,duration,language=\"python programming\"):\n",
    "    print(institute+\"  \"+language+\"  \"+duration)\n",
    "course(institute,duration=\"3 months\")    "
   ]
  },
  {
   "cell_type": "code",
   "execution_count": 11,
   "metadata": {},
   "outputs": [
    {
     "name": "stdout",
     "output_type": "stream",
     "text": [
      "MY name is mudassir\n"
     ]
    }
   ],
   "source": [
    "pronoun=\"MY name\"\n",
    "def personalinformation(pronoun,verb,name=\"mudassir\"):\n",
    "    print(pronoun+\" \"+verb+\" \"+name)\n",
    "personalinformation(pronoun,verb=\"is\")    "
   ]
  },
  {
   "cell_type": "code",
   "execution_count": 12,
   "metadata": {},
   "outputs": [
    {
     "name": "stdout",
     "output_type": "stream",
     "text": [
      "My name is MUHAMMAD MUDASSIR RAZA and my fahter name is ZAKIR RAZA\n"
     ]
    }
   ],
   "source": [
    "def personalinfo(name,fathername):\n",
    "    print(\"My name is \"+name+\" and my fahter name is \"+fathername)\n",
    "personalinfo(name=\"MUHAMMAD MUDASSIR RAZA\",fathername=\"ZAKIR RAZA\")    "
   ]
  },
  {
   "cell_type": "code",
   "execution_count": null,
   "metadata": {},
   "outputs": [],
   "source": []
  },
  {
   "cell_type": "code",
   "execution_count": 14,
   "metadata": {},
   "outputs": [
    {
     "name": "stdout",
     "output_type": "stream",
     "text": [
      "My class is BSCS and section is A\n",
      "Name :ALI\n",
      "Fathername :RAZA\n",
      "Email :ali@yahoo.com\n",
      "City:Karachi\n",
      "Country :Pakistan\n"
     ]
    }
   ],
   "source": [
    "#for excess many information(values) in parameter we use * and loop\n",
    "def detail(Class,section,*otherinfo):\n",
    "    print(\"My class is \"+Class+\" and section is \"+section)\n",
    "    for information in otherinfo:\n",
    "        print(information)\n",
    "detail(\"BSCS\",\"A\",\"Name :ALI\",\"Fathername :RAZA\",\"Email :ali@yahoo.com\",\"City:Karachi\",\"Country :Pakistan\")        "
   ]
  },
  {
   "cell_type": "code",
   "execution_count": 16,
   "metadata": {},
   "outputs": [
    {
     "name": "stdout",
     "output_type": "stream",
     "text": [
      "My class is BSCS and section is A\n",
      "('Name :ALI', 'Fathername :RAZA', 'Email :ali@yahoo.com', 'City:Karachi', 'Country :Pakistan')\n"
     ]
    }
   ],
   "source": [
    "#for excess many information(values) in parameter we use * and loop\n",
    "def detail(Class,section,*otherinfo):\n",
    "    print(\"My class is \"+Class+\" and section is \"+section)\n",
    "    print(otherinfo)\n",
    "detail(\"BSCS\",\"A\",\"Name :ALI\",\"Fathername :RAZA\",\"Email :ali@yahoo.com\",\"City:Karachi\",\"Country :Pakistan\")        "
   ]
  },
  {
   "cell_type": "code",
   "execution_count": 13,
   "metadata": {},
   "outputs": [
    {
     "name": "stdout",
     "output_type": "stream",
     "text": [
      "My class is BSCS and section is A\n",
      "Name\n",
      "Fathername\n",
      "Email\n",
      "City\n",
      "Country\n"
     ]
    }
   ],
   "source": [
    "#for excess keys  in parameter we use ** and loop\n",
    "def detail(Class,section,**otherinfo):\n",
    "    print(\"My class is \"+Class+\" and section is \"+section)\n",
    "    for information in otherinfo:\n",
    "        print(information)\n",
    "detail(\"BSCS\",\"A\",Name=\"ALI\",Fathername =\"RAZA\",Email=\"ali@yahoo.com\",City=\"Karachi\",Country=\"Pakistan\")        "
   ]
  },
  {
   "cell_type": "code",
   "execution_count": 18,
   "metadata": {},
   "outputs": [
    {
     "name": "stdout",
     "output_type": "stream",
     "text": [
      "My class is BSCS and section is A\n",
      "Name:ALI\n",
      "Fathername:RAZA\n",
      "Email:ali@yahoo.com\n",
      "City:Karachi\n",
      "Country:Pakistan\n"
     ]
    }
   ],
   "source": [
    "#for excess keys and  in parameter we use ** and in loop using .items for excess both keys snd values\n",
    "def detail(Class,section,**otherinfo):\n",
    "    print(\"My class is \"+Class+\" and section is \"+section)\n",
    "    for keys,values in otherinfo.items():\n",
    "        print(keys+\":\"+values)\n",
    "detail(\"BSCS\",\"A\",Name=\"ALI\",Fathername =\"RAZA\",Email=\"ali@yahoo.com\",City=\"Karachi\",Country=\"Pakistan\")"
   ]
  },
  {
   "cell_type": "code",
   "execution_count": 19,
   "metadata": {},
   "outputs": [
    {
     "name": "stdout",
     "output_type": "stream",
     "text": [
      "My class is BSCS and section is A\n",
      "Name:ALI\n",
      "Fathername:RAZA\n",
      "Email:ali@yahoo.com\n",
      "City:Karachi\n",
      "Country:Pakistan\n"
     ]
    }
   ],
   "source": [
    "#for excess keys and  in parameter we use ** and in loop using .items for excess both keys snd values\n",
    "def detail(Class,section,**otherinfo):\n",
    "    print(\"My class is \"+Class+\" and section is \"+section)\n",
    "    for a,b in otherinfo.items():\n",
    "        print(a+\":\"+b)\n",
    "detail(\"BSCS\",\"A\",Name=\"ALI\",Fathername =\"RAZA\",Email=\"ali@yahoo.com\",City=\"Karachi\",Country=\"Pakistan\")"
   ]
  },
  {
   "cell_type": "code",
   "execution_count": 20,
   "metadata": {},
   "outputs": [
    {
     "name": "stdout",
     "output_type": "stream",
     "text": [
      "My class is BSCS and section is A\n",
      "Name:ALI\n",
      "Fathername:RAZA\n",
      "Email:ali@yahoo.com\n",
      "City:Karachi\n",
      "Country:Pakistan\n"
     ]
    }
   ],
   "source": [
    "#for excess keys and  in parameter we use ** and in loop using .items for excess both keys snd values\n",
    "def detail(Class,section,**otherinfo):\n",
    "    print(\"My class is \"+Class+\" and section is \"+section)\n",
    "    for Forminformation,Detailinformation in otherinfo.items():\n",
    "        print(Forminformation+\":\"+Detailinformation)\n",
    "detail(\"BSCS\",\"A\",Name=\"ALI\",Fathername =\"RAZA\",Email=\"ali@yahoo.com\",City=\"Karachi\",Country=\"Pakistan\")"
   ]
  },
  {
   "cell_type": "code",
   "execution_count": 21,
   "metadata": {},
   "outputs": [
    {
     "name": "stdout",
     "output_type": "stream",
     "text": [
      "317\n"
     ]
    }
   ],
   "source": [
    "#if i want to print result out side of function so we used the keyword return\n",
    "def sumfunction():\n",
    "    number1=89\n",
    "    number2=87\n",
    "    number3=65\n",
    "    number4=76\n",
    "    result=number1+number2+number3+number4\n",
    "    return result#we use return here to excess the result outside of function\n",
    "return_result=sumfunction()#This is necessary to save function result when call return outsde of function that why we call function in return variable.\n",
    "print(return_result)"
   ]
  },
  {
   "cell_type": "code",
   "execution_count": null,
   "metadata": {},
   "outputs": [],
   "source": [
    "#if i want to print result out side of function so we used the keyword return\n",
    "def sumfunction1():\n",
    "    number1=89\n",
    "    number2=87\n",
    "    number3=65\n",
    "    number4=76\n",
    "    result=number1+number2+number3+number4\n",
    "    return result#we use return here to excess the result outside of function\n",
    "return_result1=sumfunction1()#This is necessary to save function result when call return outsde of function that why we call function in return variable.\n",
    "print(return_result1)\n",
    "def sumfunction2():\n",
    "    number1=89\n",
    "    number2=87\n",
    "    number3=65\n",
    "    number4=76\n",
    "    result=number1+number2+number3+number4\n",
    "    return result#we use return here to excess the result outside of function\n",
    "return_result2=sumfunction2()#This is necessary to save function result when call return outsde of function that why we call function in return variable.\n",
    "print(return_result2)\n",
    "def sumfunction3():\n",
    "    number1=89\n",
    "    number2=87\n",
    "    number3=65\n",
    "    number4=76\n",
    "    result=number1+number2+number3+number4\n",
    "    return result#we use return here to excess the result outside of function\n",
    "return_result3=sumfunction3()#This is necessary to save function result when call return outsde of function that why we call function in return variable.\n",
    "print(return_result3)\n",
    "def sumfunction4():\n",
    "    number1=89\n",
    "    number2=87\n",
    "    number3=65\n",
    "    number4=76\n",
    "    result=number1+number2+number3+number4\n",
    "    return result#we use return here to excess the result outside of function\n",
    "return_result4=sumfunction4()#This is necessary to save function result when call return outsde of function that why we call function in return variable.\n",
    "print(return_result4)\n",
    "FinalResult=return_result1+return_result2+return_result3+return_result4\n",
    "print(FinalResult)"
   ]
  },
  {
   "cell_type": "code",
   "execution_count": 22,
   "metadata": {},
   "outputs": [
    {
     "name": "stdout",
     "output_type": "stream",
     "text": [
      "317\n",
      "899\n",
      "1754\n",
      "1694\n",
      "4664\n"
     ]
    }
   ],
   "source": [
    "#if i want to print result out side of function so we used the keyword return\n",
    "def sumfunction1():\n",
    "    number1=89\n",
    "    number2=87\n",
    "    number3=65\n",
    "    number4=76\n",
    "    result=number1+number2+number3+number4\n",
    "    return result#we use return here to excess the result outside of function\n",
    "return_result1=sumfunction1()#This is necessary to save function result when call return outsde of function that why we call function in return variable.\n",
    "print(return_result1)\n",
    "def sumfunction2():\n",
    "    number1=89\n",
    "    number2=78\n",
    "    number3=656\n",
    "    number4=76\n",
    "    result=number1+number2+number3+number4\n",
    "    #for single value we used no()but in multiple value we ()in return e.g(a+\"\"B)\n",
    "    return result#we use return here to excess the result outside of function\n",
    "return_result2=sumfunction2()#This is necessary to save function result when call return outsde of function that why we call function in return variable.\n",
    "print(return_result2)\n",
    "def sumfunction3():\n",
    "    number1=839\n",
    "    number2=87\n",
    "    number3=65\n",
    "    number4=763\n",
    "    result=number1+number2+number3+number4\n",
    "    return result#we use return here to excess the result outside of function\n",
    "return_result3=sumfunction3()#This is necessary to save function result when call return outsde of function that why we call function in return variable.\n",
    "print(return_result3)\n",
    "def sumfunction4():\n",
    "    number1=89\n",
    "    number2=876\n",
    "    number3=653\n",
    "    number4=76\n",
    "    result=number1+number2+number3+number4\n",
    "    return result#we use return here to excess the result outside of function\n",
    "return_result4=sumfunction4()#This is necessary to save function result when call return outsde of function that why we call function in return variable.\n",
    "print(return_result4)\n",
    "FinalResult=return_result1+return_result2+return_result3+return_result4\n",
    "print(FinalResult)"
   ]
  },
  {
   "cell_type": "code",
   "execution_count": 23,
   "metadata": {},
   "outputs": [
    {
     "name": "stdout",
     "output_type": "stream",
     "text": [
      "What is your name :MUHAMMAD MUDASSIR RAZA\n",
      "MUHAMMAD MUDASSIR RAZA is enrolled in SMITH  PYTHON PROGRAMMING 3 months\n"
     ]
    }
   ],
   "source": [
    "def courseinfo():\n",
    "    inst=\"SMITH\"\n",
    "    language=\"  PYTHON PROGRAMMING\"\n",
    "    duration=\" 3 months\"\n",
    "    return(inst+\"\"+language+\"\"+duration)\n",
    "#for multiple values return we used ()\n",
    "def userinfo():\n",
    "    name=input(\"What is your name :\")\n",
    "    result=name+\" \"+\"is enrolled in\"+\" \"+courseinfo() #for returnwe call function in variable\n",
    "    return result\n",
    "wholeinfo=userinfo()\n",
    "print(wholeinfo)"
   ]
  },
  {
   "cell_type": "code",
   "execution_count": 25,
   "metadata": {},
   "outputs": [
    {
     "name": "stdout",
     "output_type": "stream",
     "text": [
      "What is your university name :  FEDERAL URDU UNIVERSITY\n",
      "\n",
      " You are enrolled in FEDERAL URDU UNIVERSITY\n",
      "name: MUHAMMAD MUDASSIR RAZA\n",
      "Class:   BSCS  \n",
      "Section:  A\n",
      " CNIC :42201-5510139-1\n",
      "Father Name  ZAKIR RAZA\n",
      "City Name: KARACHI\n",
      "\n"
     ]
    }
   ],
   "source": [
    "def personalinfo():\n",
    "    name=\"MUHAMMAD MUDASSIR RAZA\"\n",
    "    Class=\"  BSCS  \"\n",
    "    Section=\" A\"\n",
    "    return(\"\\n\"+\"name: \"+name+\"\\n\"+\"Class: \"+Class+\"\\n\"+\"Section: \"+Section)\n",
    "#for multiple values return we used ()\n",
    "def detailinfo():\n",
    "    CNIC=\"42201-5510139-1\"\n",
    "    Father_Name=\"  ZAKIR RAZA\"\n",
    "    Live_in=\" KARACHI\"\n",
    "    return(\"CNIC :\"+CNIC+\"\\n\"+\"Father Name\"+Father_Name+\"\\n\"+\"City Name:\"+Live_in+\"\\n\")\n",
    "#for multiple values return we used ()\n",
    "def userinfo():\n",
    "    University=input(\"What is your university name :  \")\n",
    "    result=\"\\n You are enrolled in \"+University+personalinfo()+\"\\n \"+detailinfo() #for returnwe call function in variable\n",
    "    return result\n",
    "wholeinfo=userinfo()\n",
    "print(wholeinfo)"
   ]
  },
  {
   "cell_type": "code",
   "execution_count": 29,
   "metadata": {},
   "outputs": [
    {
     "name": "stdout",
     "output_type": "stream",
     "text": [
      "Umair Aslam\n"
     ]
    }
   ],
   "source": [
    "def addnum():\n",
    "    name =\"Umair\"\n",
    "    return name\n",
    "firstname=addnum()\n",
    "fullname=(firstname+\" \"+\"Aslam\")\n",
    "print(fullname)\n"
   ]
  },
  {
   "cell_type": "code",
   "execution_count": 30,
   "metadata": {},
   "outputs": [
    {
     "name": "stdout",
     "output_type": "stream",
     "text": [
      "5.0685\n"
     ]
    }
   ],
   "source": [
    "def calc_tax(sales_total, tax_rate):\n",
    "    print(sales_total * tax_rate)\n",
    "calc_tax(sales_total=101.37, tax_rate=.05)    "
   ]
  },
  {
   "cell_type": "code",
   "execution_count": 31,
   "metadata": {},
   "outputs": [
    {
     "name": "stdout",
     "output_type": "stream",
     "text": [
      "4.0548\n"
     ]
    }
   ],
   "source": [
    " def calc_tax(sales_total, tax_rate=.04):\n",
    "        print(sales_total * tax_rate)\n",
    "calc_tax(sales_total=101.37)"
   ]
  },
  {
   "cell_type": "code",
   "execution_count": null,
   "metadata": {},
   "outputs": [],
   "source": [
    "def give_greeting(greeting, first_name):\n",
    "    print(greeting + \", \" + first_name)\n",
    "give_greeting(\"Hello there\", first_name=\"Al\")   "
   ]
  },
  {
   "cell_type": "code",
   "execution_count": null,
   "metadata": {},
   "outputs": [],
   "source": [
    "def give_greeting(greeting, first_name,flattering_nickname=\" the wonder boy\"):\n",
    "    print(greeting + \", \" + first_name +flattering_nickname)\n",
    "give_greeting(\"Hello there\", first_name=\"Al\")    "
   ]
  },
  {
   "cell_type": "code",
   "execution_count": 33,
   "metadata": {},
   "outputs": [
    {
     "name": "stdout",
     "output_type": "stream",
     "text": [
      "Somers\n"
     ]
    }
   ],
   "source": [
    "customers = {\n",
    "    0: {\n",
    "        \"first name\":\"John\",\n",
    "         \"last name\": \"Ogden\",\n",
    "         \"address\": \"301 Arbor Rd.\",\n",
    "    },\n",
    "    1: {\n",
    "        \"first name\":\"Ann\",\n",
    "        \"last name\": \"Sattermyer\",\n",
    "         \"address\": \"PO Box 1145\",\n",
    "    },\n",
    "    2: {\n",
    "        \"first name\":\"Jill\",\n",
    "        \"last name\": \"Somers\",\n",
    "        \"address\": \"3 Main St.\",\n",
    "    },\n",
    "}\n",
    "def find_something(dict, inner_dict, target):\n",
    "    print(dict[inner_dict][target])\n",
    "find_something(customers, 2, \"last name\")   "
   ]
  },
  {
   "cell_type": "code",
   "execution_count": 32,
   "metadata": {},
   "outputs": [
    {
     "name": "stdout",
     "output_type": "stream",
     "text": [
      "Somers\n"
     ]
    }
   ],
   "source": [
    "customers = {\n",
    "    0: {\n",
    "        \"first name\":\"John\",\n",
    "         \"last name\": \"Ogden\",\n",
    "         \"address\": \"301 Arbor Rd.\",\n",
    "    },\n",
    "    1: {\n",
    "        \"first name\":\"Ann\",\n",
    "        \"last name\": \"Sattermyer\",\n",
    "         \"address\": \"PO Box 1145\",\n",
    "    },\n",
    "    2: {\n",
    "        \"first name\":\"Jill\",\n",
    "        \"last name\": \"Somers\",\n",
    "        \"address\": \"3 Main St.\",\n",
    "    },\n",
    "}\n",
    "def find_something(a, b, c):#a=dictionary,b=inner dictionary,c=target(the value you ant to excess)\n",
    "    print(a[b][c])\n",
    "find_something(customers, 2, \"last name\")   "
   ]
  },
  {
   "cell_type": "code",
   "execution_count": 34,
   "metadata": {},
   "outputs": [
    {
     "name": "stdout",
     "output_type": "stream",
     "text": [
      "Somers\n"
     ]
    }
   ],
   "source": [
    "customers = {\n",
    "    0: {\n",
    "        \"first name\":\"John\",\n",
    "         \"last name\": \"Ogden\",\n",
    "         \"address\": \"301 Arbor Rd.\",\n",
    "    },\n",
    "    1: {\n",
    "        \"first name\":\"Ann\",\n",
    "        \"last name\": \"Sattermyer\",\n",
    "         \"address\": \"PO Box 1145\",\n",
    "    },\n",
    "    2: {\n",
    "        \"first name\":\"Jill\",\n",
    "        \"last name\": \"Somers\",\n",
    "        \"address\": \"3 Main St.\",\n",
    "    },\n",
    "}\n",
    "print(customers[2][\"last name\"])   "
   ]
  },
  {
   "cell_type": "code",
   "execution_count": 35,
   "metadata": {},
   "outputs": [
    {
     "name": "stdout",
     "output_type": "stream",
     "text": [
      "{'first name': 'Jill', 'last name': 'Somers', 'address': '3 Main St.'}\n"
     ]
    }
   ],
   "source": [
    "customers = {\n",
    "    0: {\n",
    "        \"first name\":\"John\",\n",
    "         \"last name\": \"Ogden\",\n",
    "         \"address\": \"301 Arbor Rd.\",\n",
    "    },\n",
    "    1: {\n",
    "        \"first name\":\"Ann\",\n",
    "        \"last name\": \"Sattermyer\",\n",
    "         \"address\": \"PO Box 1145\",\n",
    "    },\n",
    "    2: {\n",
    "        \"first name\":\"Jill\",\n",
    "        \"last name\": \"Somers\",\n",
    "        \"address\": \"3 Main St.\",\n",
    "    },\n",
    "}\n",
    "print(customers[2])   "
   ]
  },
  {
   "cell_type": "code",
   "execution_count": 36,
   "metadata": {},
   "outputs": [
    {
     "name": "stdout",
     "output_type": "stream",
     "text": [
      "The winner was Real Madrid\n",
      "The score was 1-0\n"
     ]
    }
   ],
   "source": [
    "def display_result(winner, score):\n",
    "    print(\"The winner was \" + winner)\n",
    "    print(\"The score was \" + score)\n",
    "display_result(winner=\"Real Madrid\", score=\"1-0\")"
   ]
  },
  {
   "cell_type": "code",
   "execution_count": 37,
   "metadata": {},
   "outputs": [
    {
     "name": "stdout",
     "output_type": "stream",
     "text": [
      "The winner was Real Madrid\n",
      "The score was 1-0\n",
      "overtime: yes\n",
      "injuries: none\n"
     ]
    }
   ],
   "source": [
    "def display_result(winner, score,**otherinformation):\n",
    "    print(\"The winner was \" + winner)\n",
    "    print(\"The score was \" + score)\n",
    "    for a_key,b_value in otherinformation.items():\n",
    "        print(a_key+\": \"+b_value)\n",
    "display_result(winner=\"Real Madrid\", score=\"1-0\",overtime =\"yes\",injuries= \"none\")"
   ]
  },
  {
   "cell_type": "code",
   "execution_count": 38,
   "metadata": {},
   "outputs": [
    {
     "name": "stdout",
     "output_type": "stream",
     "text": [
      "The winner was Real Madrid\n",
      "The score was 1-0\n",
      "yes\n",
      "none\n"
     ]
    }
   ],
   "source": [
    "def display_result(winner, score,*otherinformation):\n",
    "    print(\"The winner was \" + winner)\n",
    "    print(\"The score was \" + score)\n",
    "    for otherinfo in otherinformation:\n",
    "        print(otherinfo)\n",
    "display_result(\"Real Madrid\",\"1-0\",\"yes\", \"none\")"
   ]
  },
  {
   "cell_type": "code",
   "execution_count": 39,
   "metadata": {},
   "outputs": [
    {
     "name": "stdout",
     "output_type": "stream",
     "text": [
      "100\n",
      "200\n",
      "(300, 400, 500)\n"
     ]
    }
   ],
   "source": [
    "def display_nums(first_num, second_num,*opt_nums):\n",
    "    print(first_num)\n",
    "    print(second_num)\n",
    "    print(opt_nums)\n",
    "display_nums(100, 200, 300, 400, 500)    "
   ]
  },
  {
   "cell_type": "code",
   "execution_count": 40,
   "metadata": {},
   "outputs": [
    {
     "name": "stdout",
     "output_type": "stream",
     "text": [
      "The winner was Real Madrid\n",
      "The score was 1-0\n",
      "('yes', 'none')\n"
     ]
    }
   ],
   "source": [
    "def display_result(winner, score,*otherinformation):\n",
    "    print(\"The winner was \" + winner)\n",
    "    print(\"The score was \" + score)\n",
    "    print(otherinformation)\n",
    "display_result(\"Real Madrid\",\"1-0\",\"yes\", \"none\")"
   ]
  },
  {
   "cell_type": "code",
   "execution_count": 41,
   "metadata": {},
   "outputs": [
    {
     "name": "stdout",
     "output_type": "stream",
     "text": [
      "5.0685\n"
     ]
    }
   ],
   "source": [
    "def calc_tax(sales_total, tax_rate):\n",
    "    tax=(sales_total * tax_rate)\n",
    "    print(tax)\n",
    "calc_tax(sales_total=101.37, tax_rate=.05)    "
   ]
  },
  {
   "cell_type": "code",
   "execution_count": 42,
   "metadata": {},
   "outputs": [
    {
     "name": "stdout",
     "output_type": "stream",
     "text": [
      "5.0685\n"
     ]
    }
   ],
   "source": [
    "def calc_tax(sales_total, tax_rate):\n",
    "    tax = sales_total * tax_rate\n",
    "    return tax\n",
    "sales_tax = calc_tax(sales_total=101.37,tax_rate=.05)\n",
    "print(sales_tax)"
   ]
  },
  {
   "cell_type": "code",
   "execution_count": 43,
   "metadata": {},
   "outputs": [
    {
     "name": "stdout",
     "output_type": "stream",
     "text": [
      "5.0685\n"
     ]
    }
   ],
   "source": [
    "def calc_tax(sales_total, tax_rate):\n",
    "    return (sales_total * tax_rate)\n",
    "    sales_tax = calc_tax(sales_total=101.37,tax_rate=.05)\n",
    "print(sales_tax)"
   ]
  },
  {
   "cell_type": "code",
   "execution_count": 44,
   "metadata": {},
   "outputs": [
    {
     "name": "stdout",
     "output_type": "stream",
     "text": [
      "4\n"
     ]
    }
   ],
   "source": [
    "def add_numbers(first_number, second_number):\n",
    "    return first_number + second_number\n",
    "def subtract_numbers(first_number, second_number):\n",
    "    return first_number - second_number\n",
    "result_of_adding = add_numbers(1, 2)\n",
    "result_of_subtracting = subtract_numbers(3, 2)\n",
    "sum_of_results = result_of_adding +result_of_subtracting\n",
    "print(sum_of_results)"
   ]
  },
  {
   "cell_type": "code",
   "execution_count": 46,
   "metadata": {},
   "outputs": [
    {
     "name": "stdout",
     "output_type": "stream",
     "text": [
      "23\n",
      "1\n"
     ]
    }
   ],
   "source": [
    "def whatever():\n",
    "    y = 23 \n",
    "    print(y)\n",
    "    y = 1\n",
    "    print(y)\n",
    "whatever()\n"
   ]
  },
  {
   "cell_type": "code",
   "execution_count": 45,
   "metadata": {},
   "outputs": [
    {
     "ename": "TypeError",
     "evalue": "now_say_it() missing 1 required positional argument: 'content'",
     "output_type": "error",
     "traceback": [
      "\u001b[1;31m---------------------------------------------------------------------------\u001b[0m",
      "\u001b[1;31mTypeError\u001b[0m                                 Traceback (most recent call last)",
      "\u001b[1;32m<ipython-input-45-aa0427664625>\u001b[0m in \u001b[0;36m<module>\u001b[1;34m\u001b[0m\n\u001b[0;32m      4\u001b[0m \u001b[1;32mdef\u001b[0m \u001b[0mnow_say_it\u001b[0m\u001b[1;33m(\u001b[0m\u001b[0mcontent\u001b[0m\u001b[1;33m)\u001b[0m\u001b[1;33m:\u001b[0m\u001b[1;33m\u001b[0m\u001b[1;33m\u001b[0m\u001b[0m\n\u001b[0;32m      5\u001b[0m     \u001b[0mprint\u001b[0m\u001b[1;33m(\u001b[0m\u001b[0mcontent\u001b[0m\u001b[1;33m)\u001b[0m\u001b[1;33m\u001b[0m\u001b[1;33m\u001b[0m\u001b[0m\n\u001b[1;32m----> 6\u001b[1;33m \u001b[0mnow_say_it\u001b[0m\u001b[1;33m(\u001b[0m\u001b[1;33m)\u001b[0m\u001b[1;33m\u001b[0m\u001b[1;33m\u001b[0m\u001b[0m\n\u001b[0m",
      "\u001b[1;31mTypeError\u001b[0m: now_say_it() missing 1 required positional argument: 'content'"
     ]
    }
   ],
   "source": [
    "def say_something():\n",
    "    what_to_say = \"Hi\"\n",
    "    now_say_it(what_to_say)\n",
    "def now_say_it(content):\n",
    "    print(content)\n",
    "now_say_it()    "
   ]
  },
  {
   "cell_type": "code",
   "execution_count": 48,
   "metadata": {},
   "outputs": [
    {
     "name": "stdout",
     "output_type": "stream",
     "text": [
      "Enter a city, or q toquit:KARACHI\n"
     ]
    },
    {
     "ename": "NameError",
     "evalue": "name 'cleanest_cities' is not defined",
     "output_type": "error",
     "traceback": [
      "\u001b[1;31m---------------------------------------------------------------------------\u001b[0m",
      "\u001b[1;31mNameError\u001b[0m                                 Traceback (most recent call last)",
      "\u001b[1;32m<ipython-input-48-a4dc62ecff0e>\u001b[0m in \u001b[0;36m<module>\u001b[1;34m\u001b[0m\n\u001b[0;32m      3\u001b[0m     \u001b[0muser_input\u001b[0m \u001b[1;33m=\u001b[0m \u001b[0minput\u001b[0m\u001b[1;33m(\u001b[0m\u001b[1;34m\"Enter a city, or q toquit:\"\u001b[0m\u001b[1;33m)\u001b[0m\u001b[1;33m\u001b[0m\u001b[1;33m\u001b[0m\u001b[0m\n\u001b[0;32m      4\u001b[0m     \u001b[1;32mif\u001b[0m \u001b[0muser_input\u001b[0m \u001b[1;33m!=\u001b[0m \u001b[1;34m\"q\"\u001b[0m\u001b[1;33m:\u001b[0m\u001b[1;33m\u001b[0m\u001b[1;33m\u001b[0m\u001b[0m\n\u001b[1;32m----> 5\u001b[1;33m         \u001b[1;32mfor\u001b[0m \u001b[0ma_clean_city\u001b[0m \u001b[1;32min\u001b[0m \u001b[0mcleanest_cities\u001b[0m\u001b[1;33m:\u001b[0m\u001b[1;33m\u001b[0m\u001b[1;33m\u001b[0m\u001b[0m\n\u001b[0m\u001b[0;32m      6\u001b[0m             \u001b[1;32mif\u001b[0m \u001b[0muser_input\u001b[0m \u001b[1;33m==\u001b[0m \u001b[0ma_clean_city\u001b[0m\u001b[1;33m:\u001b[0m\u001b[1;33m\u001b[0m\u001b[1;33m\u001b[0m\u001b[0m\n\u001b[0;32m      7\u001b[0m                 \u001b[0mprint\u001b[0m\u001b[1;33m(\u001b[0m\u001b[1;34m\"It's one of the cleanest cities\"\u001b[0m\u001b[1;33m)\u001b[0m\u001b[1;33m\u001b[0m\u001b[1;33m\u001b[0m\u001b[0m\n",
      "\u001b[1;31mNameError\u001b[0m: name 'cleanest_cities' is not defined"
     ]
    }
   ],
   "source": [
    "user_input = \"\"\n",
    "while user_input != \"q\":\n",
    "    user_input = input(\"Enter a city, or q toquit:\")\n",
    "    if user_input != \"q\":\n",
    "        for a_clean_city in cleanest_cities:\n",
    "            if user_input == a_clean_city:\n",
    "                print(\"It's one of the cleanest cities\")"
   ]
  },
  {
   "cell_type": "code",
   "execution_count": null,
   "metadata": {},
   "outputs": [],
   "source": []
  }
 ],
 "metadata": {
  "kernelspec": {
   "display_name": "Python 3",
   "language": "python",
   "name": "python3"
  },
  "language_info": {
   "codemirror_mode": {
    "name": "ipython",
    "version": 3
   },
   "file_extension": ".py",
   "mimetype": "text/x-python",
   "name": "python",
   "nbconvert_exporter": "python",
   "pygments_lexer": "ipython3",
   "version": "3.7.4"
  }
 },
 "nbformat": 4,
 "nbformat_minor": 2
}
