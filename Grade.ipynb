{
 "cells": [
  {
   "cell_type": "code",
   "execution_count": 4,
   "metadata": {},
   "outputs": [
    {
     "name": "stdout",
     "output_type": "stream",
     "text": [
      "Enter the maths marks56\n",
      "Enter the PST marks68\n",
      "Enter the Isl marks98\n",
      "Enter the Eng marks96\n",
      "Enter the Urdu marks97\n",
      "415\n",
      "83.0\n",
      "Grade is A+\n"
     ]
    }
   ],
   "source": [
    "a=int(input(\"Enter the maths marks\"))\n",
    "b=int(input(\"Enter the PST marks\"))\n",
    "c=int(input(\"Enter the Isl marks\"))\n",
    "d=int(input(\"Enter the Eng marks\"))\n",
    "e=int(input(\"Enter the Urdu marks\"))\n",
    "sum=a+b+c+d+e\n",
    "print(sum)\n",
    "per=(sum*100)/500\n",
    "print(per)\n",
    "if per >= 80 and per <= 90 :\n",
    "    print(\"Grade is A+\")\n",
    "elif per >= 70 and per < 80 :\n",
    "    print(\"Grade is A\")\n",
    "elif per >= 60 and per < 70:\n",
    "    print(\"Grade is B\")\n",
    "elif per >= 50 and per < 60 :\n",
    "    print(\"Grade is C\")\n",
    "elif per >= 40and per < 50 :\n",
    "    print(\"Grade is D\")\n",
    "elif per >= 30 and per < 40 :\n",
    "    print(\"Grade is E\")\n",
    "else :\n",
    "    print(\"Fail\")\n"
   ]
  },
  {
   "cell_type": "code",
   "execution_count": null,
   "metadata": {},
   "outputs": [],
   "source": []
  }
 ],
 "metadata": {
  "kernelspec": {
   "display_name": "Python 3",
   "language": "python",
   "name": "python3"
  },
  "language_info": {
   "codemirror_mode": {
    "name": "ipython",
    "version": 3
   },
   "file_extension": ".py",
   "mimetype": "text/x-python",
   "name": "python",
   "nbconvert_exporter": "python",
   "pygments_lexer": "ipython3",
   "version": "3.7.4"
  }
 },
 "nbformat": 4,
 "nbformat_minor": 2
}
