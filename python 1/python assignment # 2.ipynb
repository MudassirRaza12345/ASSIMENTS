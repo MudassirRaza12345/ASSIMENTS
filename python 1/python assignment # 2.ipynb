{
 "cells": [
  {
   "cell_type": "code",
   "execution_count": 4,
   "metadata": {},
   "outputs": [
    {
     "name": "stdout",
     "output_type": "stream",
     "text": [
      "Enter the maths marks56\n",
      "Enter the PST marks68\n",
      "Enter the Isl marks98\n",
      "Enter the Eng marks96\n",
      "Enter the Urdu marks97\n",
      "415\n",
      "83.0\n",
      "Grade is A+\n"
     ]
    }
   ],
   "source": [
    "#Q1Mark sheet\n",
    "a=int(input(\"Enter the maths marks\"))\n",
    "b=int(input(\"Enter the PST marks\"))\n",
    "c=int(input(\"Enter the Isl marks\"))\n",
    "d=int(input(\"Enter the Eng marks\"))\n",
    "e=int(input(\"Enter the Urdu marks\"))\n",
    "sum=a+b+c+d+e\n",
    "print(sum)\n",
    "per=(sum*100)/500\n",
    "print(per)\n",
    "if per >= 80 and per <= 90 :\n",
    "    print(\"Grade is A+\")\n",
    "elif per >= 70 and per < 80 :\n",
    "    print(\"Grade is A\")\n",
    "elif per >= 60 and per < 70:\n",
    "    print(\"Grade is B\")\n",
    "elif per >= 50 and per < 60 :\n",
    "    print(\"Grade is C\")\n",
    "elif per >= 40and per < 50 :\n",
    "    print(\"Grade is D\")\n",
    "elif per >= 30 and per < 40 :\n",
    "    print(\"Grade is E\")\n",
    "else :\n",
    "    print(\"Fail\")\n"
   ]
  },
  {
   "cell_type": "code",
   "execution_count": 2,
   "metadata": {},
   "outputs": [
    {
     "name": "stdout",
     "output_type": "stream",
     "text": [
      "Enter the number5\n",
      "number is odd\n"
     ]
    }
   ],
   "source": [
    "#Check even or odd\n",
    "n=int(input(\"Enter the number\"))\n",
    "if n%2 == 0 :\n",
    "    print(\"number is even \")\n",
    "else :\n",
    "    print(\"number is odd\")"
   ]
  },
  {
   "cell_type": "code",
   "execution_count": 3,
   "metadata": {},
   "outputs": [
    {
     "name": "stdout",
     "output_type": "stream",
     "text": [
      "7\n"
     ]
    }
   ],
   "source": [
    "Q#3length of list\n",
    "list_arr=[\"Ali\",25,72,\"Haider\",\"Raza\",24,\"\"]\n",
    "list_length=len(list_arr)\n",
    "print(list_length)"
   ]
  },
  {
   "cell_type": "code",
   "execution_count": 6,
   "metadata": {},
   "outputs": [
    {
     "name": "stdout",
     "output_type": "stream",
     "text": [
      "136\n"
     ]
    }
   ],
   "source": [
    "#Q4sum of list\n",
    "list_arr=[4,25,72,6,24,5]\n",
    "total=sum(list_arr)\n",
    "print(total)"
   ]
  },
  {
   "cell_type": "code",
   "execution_count": 8,
   "metadata": {},
   "outputs": [
    {
     "name": "stdout",
     "output_type": "stream",
     "text": [
      "72\n"
     ]
    }
   ],
   "source": [
    "#Q5amax value\n",
    "list_arr=[4,25,72,6,24,5]\n",
    "print(max(list_arr))"
   ]
  },
  {
   "cell_type": "code",
   "execution_count": 9,
   "metadata": {},
   "outputs": [
    {
     "name": "stdout",
     "output_type": "stream",
     "text": [
      "4\n"
     ]
    }
   ],
   "source": [
    "#Q5b min value\n",
    "list_arr=[4,25,72,6,24,5]\n",
    "print(min(list_arr))"
   ]
  },
  {
   "cell_type": "code",
   "execution_count": 16,
   "metadata": {},
   "outputs": [
    {
     "name": "stdout",
     "output_type": "stream",
     "text": [
      "1\n",
      "1\n",
      "2\n",
      "3\n"
     ]
    }
   ],
   "source": [
    "#Q6 print number\n",
    "a=[1,1,2,3,5,8,13,21,34,55,89]\n",
    "for c in a:\n",
    "    if c <5 :\n",
    "        print(c)"
   ]
  },
  {
   "cell_type": "code",
   "execution_count": 18,
   "metadata": {},
   "outputs": [
    {
     "name": "stdout",
     "output_type": "stream",
     "text": [
      "1   1   2   3   "
     ]
    }
   ],
   "source": [
    "a=[1,1,2,3,5,8,13,21,34,55,89]\n",
    "for c in a:\n",
    "    if c <5 :\n",
    "        print(c,end='   ')"
   ]
  },
  {
   "cell_type": "code",
   "execution_count": null,
   "metadata": {},
   "outputs": [],
   "source": []
  }
 ],
 "metadata": {
  "kernelspec": {
   "display_name": "Python 3",
   "language": "python",
   "name": "python3"
  },
  "language_info": {
   "codemirror_mode": {
    "name": "ipython",
    "version": 3
   },
   "file_extension": ".py",
   "mimetype": "text/x-python",
   "name": "python",
   "nbconvert_exporter": "python",
   "pygments_lexer": "ipython3",
   "version": "3.7.4"
  }
 },
 "nbformat": 4,
 "nbformat_minor": 2
}
