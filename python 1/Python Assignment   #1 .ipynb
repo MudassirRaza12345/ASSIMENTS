{
 "cells": [
  {
   "cell_type": "code",
   "execution_count": 1,
   "metadata": {},
   "outputs": [
    {
     "name": "stdout",
     "output_type": "stream",
     "text": [
      "Twinke ,twinkle ,;ittle ,star ,\n",
      "   How I wonder what you are!/n           Up above the world so high,\n",
      "            Like a  diamond in the sky.\n",
      "Twinkle ,twinkle ,little star ,\n",
      "   How I wonder what ou are\n"
     ]
    }
   ],
   "source": [
    "#Q1 sting in specific format\n",
    "print(\"Twinke ,twinkle ,;ittle ,star ,\\n   How I wonder what you are!/n           Up above the world so high,\\n            Like a  diamond in the sky.\\nTwinkle ,twinkle ,little star ,\\n   How I wonder what ou are\")"
   ]
  },
  {
   "cell_type": "code",
   "execution_count": 2,
   "metadata": {},
   "outputs": [
    {
     "name": "stdout",
     "output_type": "stream",
     "text": [
      "python version\n",
      "3.7.4 (default, Aug  9 2019, 18:22:51) [MSC v.1915 32 bit (Intel)]\n",
      "version info.\n",
      "sys.version_info(major=3, minor=7, micro=4, releaselevel='final', serial=0)\n"
     ]
    }
   ],
   "source": [
    "#Q2 version you are using\n",
    "import sys\n",
    "print(\"python version\")\n",
    "print(sys.version)\n",
    "print(\"version info.\")\n",
    "print(sys.version_info)"
   ]
  },
  {
   "cell_type": "code",
   "execution_count": 3,
   "metadata": {},
   "outputs": [
    {
     "name": "stdout",
     "output_type": "stream",
     "text": [
      "2019-11-04 08:48:30.586788\n"
     ]
    }
   ],
   "source": [
    "#Q3 current date and time\n",
    "from datetime import datetime\n",
    "today = datetime.today()\n",
    "print(today)"
   ]
  },
  {
   "cell_type": "code",
   "execution_count": 4,
   "metadata": {},
   "outputs": [
    {
     "name": "stdout",
     "output_type": "stream",
     "text": [
      "Enter the radius22\n",
      "1520.728\n"
     ]
    }
   ],
   "source": [
    "#Q4 radius of circle\n",
    "r=float(input(\"Enter the radius\"))\n",
    "pi=3.142\n",
    "Area=pi*r**2\n",
    "print(Area)"
   ]
  },
  {
   "cell_type": "code",
   "execution_count": 5,
   "metadata": {},
   "outputs": [
    {
     "name": "stdout",
     "output_type": "stream",
     "text": [
      "Enter your first name:\n",
      "Muhammad Mudassir\n",
      "Enter your last nameRaza\n",
      "Raza  Muhammad Mudassir\n"
     ]
    }
   ],
   "source": [
    "#Q5 first and last name in reverse order\n",
    "first_name =input(\"Enter your first name:\\n\")\n",
    "last_name =input(\"Enter your last name\")\n",
    "full_name =last_name+\"  \"+first_name\n",
    "print(full_name)"
   ]
  },
  {
   "cell_type": "code",
   "execution_count": 6,
   "metadata": {},
   "outputs": [
    {
     "name": "stdout",
     "output_type": "stream",
     "text": [
      "Enter the first number33\n",
      "Enter the second number33\n",
      "66\n"
     ]
    }
   ],
   "source": [
    "#Q6 add\n",
    "a=int(input(\"Enter the first number\"))\n",
    "b=int(input(\"Enter the second number\"))\n",
    "add=a+b\n",
    "print(add)"
   ]
  },
  {
   "cell_type": "code",
   "execution_count": null,
   "metadata": {},
   "outputs": [],
   "source": []
  }
 ],
 "metadata": {
  "kernelspec": {
   "display_name": "Python 3",
   "language": "python",
   "name": "python3"
  },
  "language_info": {
   "codemirror_mode": {
    "name": "ipython",
    "version": 3
   },
   "file_extension": ".py",
   "mimetype": "text/x-python",
   "name": "python",
   "nbconvert_exporter": "python",
   "pygments_lexer": "ipython3",
   "version": "3.7.4"
  }
 },
 "nbformat": 4,
 "nbformat_minor": 2
}
