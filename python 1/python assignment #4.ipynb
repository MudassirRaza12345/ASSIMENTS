{
 "cells": [
  {
   "cell_type": "code",
   "execution_count": 10,
   "metadata": {},
   "outputs": [
    {
     "name": "stdout",
     "output_type": "stream",
     "text": [
      "{'first name': 'Muhammad Mudassir', 'last name': 'Raza', 'age': 20, 'city': 'Pakistan'}\n",
      "{'first name': 'Muhammad Mudassir', 'last name': 'Raza', 'age': 20, 'city': 'Pakistan', 'qualification': 'Intermediate'}\n",
      "{'first name': 'Muhammad Mudassir', 'last name': 'Raza', 'age': 20, 'city': 'Pakistan', 'qualification': 'BSCS'}\n",
      "{'first name': 'Muhammad Mudassir', 'last name': 'Raza', 'age': 20, 'city': 'Pakistan'}\n"
     ]
    }
   ],
   "source": [
    "#Q1 Use a dictionary to store information\n",
    "personal_information={\n",
    "    \"first name\" : \"Muhammad Mudassir\",\n",
    "    \"last name\" : \"Raza\",\n",
    "    \"age\" : 20,\n",
    "    \"city\" : \"Pakistan\"\n",
    "}\n",
    "print(personal_information)\n",
    "personal_information[\"qualification\"]=\"Intermediate\"\n",
    "print(personal_information)\n",
    "personal_information[\"qualification\"]=\"BSCS\"\n",
    "print(personal_information)\n",
    "del personal_information[\"qualification\"]\n",
    "print(personal_information)"
   ]
  },
  {
   "cell_type": "code",
   "execution_count": 23,
   "metadata": {},
   "outputs": [
    {
     "name": "stdout",
     "output_type": "stream",
     "text": [
      "city  name: Karachi\n",
      "country name: Pakistan\n",
      "approx.population: 2.14 million\n",
      "fact about city: Largest cityof pakistan.Mostly trade are carried out in this city through port Qasim \n",
      "\n",
      "\n",
      "city  name: Tehran\n",
      "country name: Iran\n",
      "approx.population: 81.16 million\n",
      "fact about city: Largest city and capital of Iran.It is the hub country communication and transport  networks\n",
      "\n",
      "\n",
      "city  name: Baghdad\n",
      "country name: Iraq\n",
      "approx.population: 37 milllion\n",
      "fact about city: Largest city and capital of Iraq.It is largest city in united Arab\n",
      "\n",
      "\n"
     ]
    }
   ],
   "source": [
    "#Q2 create dictonary about information of cities\n",
    "cities={\n",
    "    \"Karachi\" : {\n",
    "        \"country\" : \"Pakistan\",\n",
    "        \"approx.population\" : \"2.14 million\",\n",
    "        \"fact about city\" : \"Largest cityof pakistan.Mostly trade are carried out in this city through port Qasim \"\n",
    "        },\n",
    "    \"Tehran\" : {\n",
    "        \"country\" : \"Iran\",\n",
    "        \"approx.population\" : \"81.16 million\",\n",
    "        \"fact about city\" : \"Largest city and capital of Iran.It is the hub country communication and transport  networks\"\n",
    "    },\n",
    "    \"Baghdad\" : {\n",
    "        \"country\" : \"Iraq\",\n",
    "        \"approx.population\" : \"37 milllion\",\n",
    "        \"fact about city\" : \"Largest city and capital of Iraq.It is largest city in united Arab\"\n",
    "    },\n",
    "    }\n",
    "for a in cities.keys():\n",
    "    print(\"city  name\" + \":\" + \" \" + a)\n",
    "    print(\"country name\" + \":\" + \" \" + cities[a][\"country\"])\n",
    "    print(\"approx.population\" + \":\" + \" \" + cities[a][\"approx.population\"])\n",
    "    print(\"fact about city\" + \":\" + \" \" + cities[a][\"fact about city\"])\n",
    "    print(\"\\n\")\n"
   ]
  },
  {
   "cell_type": "code",
   "execution_count": 1,
   "metadata": {},
   "outputs": [
    {
     "name": "stdout",
     "output_type": "stream",
     "text": [
      "How old are you?\n",
      "Enter 'quit' when you are finished. 3\n",
      "  Your ticket is $10.\n",
      "How old are you?\n",
      "Enter 'quit' when you are finished. 5\n",
      "  Your ticket is $10.\n",
      "How old are you?\n",
      "Enter 'quit' when you are finished. 5\n",
      "  Your ticket is $10.\n",
      "How old are you?\n",
      "Enter 'quit' when you are finished. 6\n",
      "  Your ticket is $10.\n",
      "How old are you?\n",
      "Enter 'quit' when you are finished. 15\n",
      "  Your ticket is $15.\n",
      "How old are you?\n",
      "Enter 'quit' when you are finished. quit\n"
     ]
    }
   ],
   "source": [
    "#Q3movie theater ticket\n",
    "prompt = \"How old are you?\"\n",
    "prompt += \"\\nEnter 'quit' when you are finished. \"\n",
    "\n",
    "while True:\n",
    "    age = input(prompt)\n",
    "    if age == 'quit':\n",
    "        break\n",
    "    age = int(age)\n",
    "\n",
    "    if age < 3:\n",
    "        print(\"  You get in free!\")\n",
    "    elif age < 13:\n",
    "        print(\"  Your ticket is $10.\")\n",
    "    else:\n",
    "        print(\"  Your ticket is $15.\")        \n",
    "          \n",
    "          "
   ]
  },
  {
   "cell_type": "code",
   "execution_count": 4,
   "metadata": {},
   "outputs": [
    {
     "name": "stdout",
     "output_type": "stream",
     "text": [
      "Smarter way to python  is one of my favorite book.\n"
     ]
    }
   ],
   "source": [
    "#Q4one my favourite book\n",
    "def favorite_book(title):\n",
    "    print(title + \" is one of my favorite book.\")\n",
    "\n",
    "favorite_book(\"Smarter way to python \")"
   ]
  },
  {
   "cell_type": "code",
   "execution_count": 5,
   "metadata": {},
   "outputs": [
    {
     "name": "stdout",
     "output_type": "stream",
     "text": [
      "Guess the number between 1 to 30: 2\n",
      "Your guess is too low\n",
      "Guess the number between 1 to 30: 9\n",
      "Your guess is too low\n",
      "Guess the number between 1 to 30: 28\n",
      "Congratulations You win!\n"
     ]
    }
   ],
   "source": [
    "#Q5Guess the number\n",
    "import random\n",
    "random_number = random.randrange(1,30)\n",
    "flag = False\n",
    "for i in range(1,4):\n",
    "    guess = int(input(\"Guess the number between 1 to 30: \"))\n",
    "    if guess == random_number:\n",
    "        flag = True\n",
    "        break\n",
    "    elif guess < random_number:\n",
    "        print(\"Your guess is too low\")\n",
    "    else:\n",
    "        print(\"Your guess is too high\")\n",
    "if flag:\n",
    "    print(\"Congratulations You win!\")\n",
    "else:\n",
    "    print(\"Sorry! You LOOSE\")\n",
    "    print(\"Correct number is\", random_number)"
   ]
  },
  {
   "cell_type": "code",
   "execution_count": 6,
   "metadata": {},
   "outputs": [
    {
     "name": "stdout",
     "output_type": "stream",
     "text": [
      "Guess the number between 1 to 30: 5\n",
      "Your guess is too high\n",
      "Guess the number between 1 to 30: 18\n",
      "Your guess is too high\n",
      "Guess the number between 1 to 30: 10\n",
      "Your guess is too high\n",
      "Sorry! You LOOSE\n",
      "Correct number is 1\n"
     ]
    }
   ],
   "source": [
    "import random\n",
    "random_number = random.randrange(1,30)\n",
    "flag = False\n",
    "for i in range(1,4):\n",
    "    guess = int(input(\"Guess the number between 1 to 30: \"))\n",
    "    if guess == random_number:\n",
    "        flag = True\n",
    "        break\n",
    "    elif guess < random_number:\n",
    "        print(\"Your guess is too low\")\n",
    "    else:\n",
    "        print(\"Your guess is too high\")\n",
    "if flag:\n",
    "    print(\"Congratulations You win!\")\n",
    "else:\n",
    "    print(\"Sorry! You LOOSE\")\n",
    "    print(\"Correct number is\", random_number)"
   ]
  },
  {
   "cell_type": "code",
   "execution_count": null,
   "metadata": {},
   "outputs": [],
   "source": []
  }
 ],
 "metadata": {
  "kernelspec": {
   "display_name": "Python 3",
   "language": "python",
   "name": "python3"
  },
  "language_info": {
   "codemirror_mode": {
    "name": "ipython",
    "version": 3
   },
   "file_extension": ".py",
   "mimetype": "text/x-python",
   "name": "python",
   "nbconvert_exporter": "python",
   "pygments_lexer": "ipython3",
   "version": "3.7.4"
  }
 },
 "nbformat": 4,
 "nbformat_minor": 2
}
