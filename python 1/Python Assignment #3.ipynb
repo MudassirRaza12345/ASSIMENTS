{
 "cells": [
  {
   "cell_type": "code",
   "execution_count": 3,
   "metadata": {},
   "outputs": [
    {
     "name": "stdout",
     "output_type": "stream",
     "text": [
      "Enter the first value5\n",
      "Enter the second value5\n",
      "Enter the operator**\n",
      "3125 answer\n"
     ]
    }
   ],
   "source": [
    "#Q1Calculator\n",
    "val1 =int(input('Enter the first value'))\n",
    "val2 =int(input('Enter the second value'))\n",
    "operator =input('Enter the operator')\n",
    "if operator == '+' :\n",
    "    val = val1 + val2\n",
    "    print(val,'answer')\n",
    "elif operator == '-' :\n",
    "    val = val1 - val2\n",
    "    print(val,'answer')\n",
    "elif operator == '/' :\n",
    "    val = val1 / val2\n",
    "    print(val,'answer')\n",
    "elif operator == '*' :\n",
    "    val = val1 * val2 \n",
    "    print(val,'answer')\n",
    "elif operator == '**' :\n",
    "    val = val1 ** val2\n",
    "    print(val,'answer')\n",
    "else :\n",
    "    print('Enter correct operator')"
   ]
  },
  {
   "cell_type": "code",
   "execution_count": 44,
   "metadata": {},
   "outputs": [
    {
     "name": "stdout",
     "output_type": "stream",
     "text": [
      "2 Numeric Value present\n",
      "Numeric value not present\n",
      "5 Numeric Value present\n",
      "Numeric value not present\n",
      "442 Numeric Value present\n",
      "Numeric value not present\n",
      "8 Numeric Value present\n",
      "Numeric value not present\n",
      "7 Numeric Value present\n"
     ]
    }
   ],
   "source": [
    "#Q2to check numeric value in list\n",
    "values =[2,\"ali\",5,\"raza\",442,\"ahmed\",8,\"umer\",7]\n",
    "for a in values:\n",
    "    if type(a) == int:\n",
    "        print(a,\"Numeric Value present\")\n",
    "    else :\n",
    "        print(\"Numeric value not present\")\n",
    "        "
   ]
  },
  {
   "cell_type": "code",
   "execution_count": 45,
   "metadata": {},
   "outputs": [
    {
     "name": "stdout",
     "output_type": "stream",
     "text": [
      "{'key1': 'karachi', 'key2': 'Lahore', 'key3': 'Islamabad'}\n"
     ]
    }
   ],
   "source": [
    "#Q3 add key to dictionary\n",
    "dict = {\"key1\" : \"karachi\" , \"key2\" : \"Lahore\"}\n",
    "dict.update({\"key3\" : \"Islamabad\"})\n",
    "print(dict)"
   ]
  },
  {
   "cell_type": "code",
   "execution_count": 58,
   "metadata": {},
   "outputs": [
    {
     "name": "stdout",
     "output_type": "stream",
     "text": [
      "8\n",
      "13\n",
      "105\n"
     ]
    }
   ],
   "source": [
    "#Q4sum all numeric items\n",
    "dict={'key1': 'karachi', 'key2': 'Lahore', 'key3': 'Islamabad','key4': 8, 'key5': 5,'key6': 92}\n",
    "sum = 0\n",
    "for a in dict.values():\n",
    "    if type(a) == int:\n",
    "        sum += a\n",
    "        print(sum)\n",
    "      "
   ]
  },
  {
   "cell_type": "code",
   "execution_count": 66,
   "metadata": {},
   "outputs": [
    {
     "name": "stdout",
     "output_type": "stream",
     "text": [
      "[10, 20, 30, 40, 50]\n"
     ]
    }
   ],
   "source": [
    "#Q5 duplicat values find\n",
    "def unique_list(list):\n",
    "    uniq_list = []\n",
    "    uniq_set = set()\n",
    "    for item in list:\n",
    "        if item not in uniq_set:\n",
    "            uniq_list.append(item)\n",
    "            uniq_set.add(item)\n",
    "    return uniq_list\n",
    " \n",
    "list = [10,20,30,10,10,30,40,50]\n",
    "print(unique_list(list))"
   ]
  },
  {
   "cell_type": "code",
   "execution_count": 67,
   "metadata": {},
   "outputs": [
    {
     "name": "stdout",
     "output_type": "stream",
     "text": [
      "Key is present in the dictionary\n",
      "Key is not present in the dictionary\n"
     ]
    }
   ],
   "source": [
    "#Q6 key already exist\n",
    "d = {1: 10, 2: 20, 3: 30, 4: 40, 5: 50, 6: 60}\n",
    "def is_key_present(x):\n",
    "if x in d:\n",
    "      print('Key is present in the dictionary')\n",
    "else:\n",
    "      print('Key is not present in the dictionary')\n",
    "is_key_present(5)\n",
    "is_key_present(9)\n"
   ]
  },
  {
   "cell_type": "code",
   "execution_count": null,
   "metadata": {},
   "outputs": [],
   "source": []
  }
 ],
 "metadata": {
  "kernelspec": {
   "display_name": "Python 3",
   "language": "python",
   "name": "python3"
  },
  "language_info": {
   "codemirror_mode": {
    "name": "ipython",
    "version": 3
   },
   "file_extension": ".py",
   "mimetype": "text/x-python",
   "name": "python",
   "nbconvert_exporter": "python",
   "pygments_lexer": "ipython3",
   "version": "3.7.4"
  }
 },
 "nbformat": 4,
 "nbformat_minor": 2
}
