{
 "cells": [
  {
   "cell_type": "code",
   "execution_count": 3,
   "metadata": {},
   "outputs": [
    {
     "name": "stdout",
     "output_type": "stream",
     "text": [
      "('ali', 'raza', 'ahmed')\n"
     ]
    }
   ],
   "source": [
    "tp=('ali','raza','ahmed')\n",
    "print(tp)"
   ]
  },
  {
   "cell_type": "code",
   "execution_count": 16,
   "metadata": {},
   "outputs": [
    {
     "name": "stdout",
     "output_type": "stream",
     "text": [
      "Enter the first value6\n",
      "Enter the second value6\n",
      "Enter the operator*\n",
      "36 answer\n"
     ]
    }
   ],
   "source": [
    "val1 =int(input('Enter the first value'))\n",
    "val2 =int(input('Enter the second value'))\n",
    "operator =input('Enter the operator')\n",
    "if operator == '+' :\n",
    "    val = val1 + val2\n",
    "    print(val,'answer')\n",
    "elif operator == '-' :\n",
    "    val = val1 - val2\n",
    "    print(val,'answer')\n",
    "elif operator == '/' :\n",
    "    val = val1 / val2\n",
    "    print(val,'answer')\n",
    "elif operator == '*' :\n",
    "    val = val1 * val2 \n",
    "    print(val,'answer')\n",
    "else :\n",
    "    print('Enter correct operator')"
   ]
  },
  {
   "cell_type": "code",
   "execution_count": null,
   "metadata": {},
   "outputs": [],
   "source": []
  }
 ],
 "metadata": {
  "kernelspec": {
   "display_name": "Python 3",
   "language": "python",
   "name": "python3"
  },
  "language_info": {
   "codemirror_mode": {
    "name": "ipython",
    "version": 3
   },
   "file_extension": ".py",
   "mimetype": "text/x-python",
   "name": "python",
   "nbconvert_exporter": "python",
   "pygments_lexer": "ipython3",
   "version": "3.7.4"
  }
 },
 "nbformat": 4,
 "nbformat_minor": 2
}
