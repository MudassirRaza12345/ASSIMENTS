{
 "cells": [
  {
   "cell_type": "code",
   "execution_count": null,
   "metadata": {},
   "outputs": [],
   "source": [
    "import random\n",
    "random_number = random.num(1,30)\n",
    "flag = False\n",
    "for i in range(1,4):\n",
    "    guess =int(input(\"guess the between 1 and 30 \" :))\n",
    "    if guess = random_number:\n",
    "        flag =True\n",
    "        break\n",
    "        elif guess < random_number:\n",
    "            print(\"your guess is too low\")\n",
    "    else :\n",
    "        print(\"your guess is too high\")\n",
    "    if flag:\n",
    "        print(\"Congratulation you win\")\n",
    "    else:\n",
    "        print(\"sorry you lose\")\n",
    "        print(\"correct number is :\",random_number)"
   ]
  },
  {
   "cell_type": "code",
   "execution_count": null,
   "metadata": {},
   "outputs": [],
   "source": []
  }
 ],
 "metadata": {
  "kernelspec": {
   "display_name": "Python 3",
   "language": "python",
   "name": "python3"
  },
  "language_info": {
   "codemirror_mode": {
    "name": "ipython",
    "version": 3
   },
   "file_extension": ".py",
   "mimetype": "text/x-python",
   "name": "python",
   "nbconvert_exporter": "python",
   "pygments_lexer": "ipython3",
   "version": "3.7.4"
  }
 },
 "nbformat": 4,
 "nbformat_minor": 2
}
