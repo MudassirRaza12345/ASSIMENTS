{
 "cells": [
  {
   "cell_type": "code",
   "execution_count": 1,
   "metadata": {},
   "outputs": [
    {
     "name": "stdout",
     "output_type": "stream",
     "text": [
      "1:what is your country name\n",
      "Pakistan\n",
      "USA\n",
      "UAE\n",
      "Africa\n",
      "Pakistan\n",
      "your score is :1\n",
      "2:what is your city name\n",
      "karachi\n",
      "hyderabad\n",
      "lahore\n",
      "faisalabad\n",
      "karachi\n",
      "your score is :2\n",
      "3:what is name of capital city of pakistan\n",
      "Islamabad\n",
      "lahore\n",
      "peshawar\n",
      "pindi\n",
      "Islamad\n"
     ]
    }
   ],
   "source": [
    "questions = [\n",
    "    {\n",
    "        \"s no\" : 1,\n",
    "        \"question\" : \"what is your country name\",\n",
    "        \"options\" : [\"Pakistan\",\"USA\",\"UAE\",\"Africa\"],\n",
    "        \"answer\" : \"Pakistan\"\n",
    "        },\n",
    "    {\n",
    "        \"s no\" : 2,\n",
    "        \"question\" : \"what is your city name\",\n",
    "        \"options\" : [\"karachi\",\"hyderabad\",\"lahore\",\"faisalabad\"],\n",
    "        \"answer\" : \"karachi\"\n",
    "        },\n",
    "    {\n",
    "        \"s no\" : 3,\n",
    "        \"question\" : \"what is name of capital city of pakistan\",\n",
    "        \"options\" : [\"Islamabad\",\"lahore\",\"peshawar\",\"pindi\"],\n",
    "        \"answer\" : \"Islamabad\"\n",
    "    }\n",
    "]\n",
    "score = 0\n",
    "for question in questions:\n",
    "    data =str(question[\"s no\"]) + \":\" +question[\"question\"] + \"\\n\" +question[\"options\"][0] + \"\\n\" +question[\"options\"][1] + \"\\n\" +question[\"options\"][2] + \"\\n\" +question[\"options\"][3] +\"\\n\"\n",
    "    answer = input(data)\n",
    "    if answer == question[\"answer\"]:\n",
    "        score+=1\n",
    "        print(\"your score is :\" + str(score))"
   ]
  },
  {
   "cell_type": "code",
   "execution_count": null,
   "metadata": {},
   "outputs": [],
   "source": [
    "questions = [\n",
    "    {\n",
    "        \"s no\" : 1,\n",
    "        \"question\" : \"what is your country name\",\n",
    "        \"options\" : [\"Pakistan\",\"USA\",\"UAE\",\"Africa\"],\n",
    "        \"answer\" : \"Pakistan\"\n",
    "        },\n",
    "    {\n",
    "        \"s no\" : 2,\n",
    "        \"question\" : \"what is your city name\",\n",
    "        \"options\" : [\"karachi\",\"hyderabad\",\"lahore\",\"faisalabad\"],\n",
    "        \"answer\" : \"karachi\"\n",
    "        },\n",
    "    {\n",
    "        \"s no\" : 3,\n",
    "        \"question\" : \"what is name of capital city of pakistan\",\n",
    "        \"options\" : [\"Islamabad\",\"lahore\",\"peshawar\",\"pindi\"],\n",
    "        \"answer\" : \"Islamabad\"\n",
    "    }\n",
    "]\n",
    "score = 0\n",
    "\n",
    "for question in questions:\n",
    "    data =str(question[\"s no\"]) + \":\" +question[\"question\"] + \"\\n\" +question[\"options\"][0] + \"\\n\" +question[\"options\"][1] + \"\\n\" +question[\"options\"][2] + \"\\n\" +question[\"options\"][3] +\"\\n\"\n",
    "    answer = input(data)\n",
    "    if answer == question[\"answer\"]:\n",
    "        score+=1\n",
    "        print(\"your score is :\" + str(score))\n",
    "\n",
    "percentage = (score*100)/3\n",
    "print(\"your percentage is :\" +str(percentage))        "
   ]
  },
  {
   "cell_type": "code",
   "execution_count": null,
   "metadata": {},
   "outputs": [],
   "source": []
  }
 ],
 "metadata": {
  "kernelspec": {
   "display_name": "Python 3",
   "language": "python",
   "name": "python3"
  },
  "language_info": {
   "codemirror_mode": {
    "name": "ipython",
    "version": 3
   },
   "file_extension": ".py",
   "mimetype": "text/x-python",
   "name": "python",
   "nbconvert_exporter": "python",
   "pygments_lexer": "ipython3",
   "version": "3.7.4"
  }
 },
 "nbformat": 4,
 "nbformat_minor": 2
}
