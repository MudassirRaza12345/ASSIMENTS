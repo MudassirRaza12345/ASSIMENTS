{
 "cells": [
  {
   "cell_type": "code",
   "execution_count": 1,
   "metadata": {},
   "outputs": [
    {
     "name": "stdout",
     "output_type": "stream",
     "text": [
      "('ali', 'raza', 'ahmed')\n"
     ]
    }
   ],
   "source": [
    "tp=('ali','raza','ahmed')\n",
    "print(tp)"
   ]
  },
  {
   "cell_type": "code",
   "execution_count": 2,
   "metadata": {},
   "outputs": [
    {
     "name": "stdout",
     "output_type": "stream",
     "text": [
      "Enter the first value22\n",
      "Enter the second value5\n",
      "Enter the operator+\n",
      "27 answer\n"
     ]
    }
   ],
   "source": [
    "val1 =int(input('Enter the first value'))\n",
    "val2 =int(input('Enter the second value'))\n",
    "operator =input('Enter the operator')\n",
    "if operator == '+' :\n",
    "    val = val1 + val2\n",
    "    print(val,'answer')\n",
    "elif operator == '-' :\n",
    "    val = val1 - val2\n",
    "    print(val,'answer')\n",
    "elif operator == '/' :\n",
    "    val = val1 / val2\n",
    "    print(val,'answer')\n",
    "elif operator == '*' :\n",
    "    val = val1 * val2 \n",
    "    print(val,'answer')\n",
    "else :\n",
    "    print('Enter correct operator')"
   ]
  },
  {
   "cell_type": "code",
   "execution_count": 3,
   "metadata": {},
   "outputs": [
    {
     "name": "stdout",
     "output_type": "stream",
     "text": [
      "nothing\n",
      "nothing\n",
      "nothing\n",
      "nothing\n",
      "nothing\n",
      "It's one of the cleanest cities\n"
     ]
    }
   ],
   "source": [
    "cleanest_cities = [\"Cheyenne\", \"Santa Fe\", \"Tucson\",\n",
    "\"Great Falls\", \"Honolulu\",\"lahore\"]\n",
    "city_to_check = \"lahore\"\n",
    "for a_clean_city in cleanest_cities:\n",
    "    if city_to_check == a_clean_city:\n",
    "        print(\"It's one of the cleanest cities\")\n",
    "        break\n",
    "    else :\n",
    "            print(\"nothing\")\n",
    "            "
   ]
  },
  {
   "cell_type": "code",
   "execution_count": 4,
   "metadata": {},
   "outputs": [
    {
     "name": "stdout",
     "output_type": "stream",
     "text": [
      "Cheyenne\n",
      "Santa Fe\n",
      "Tucson\n",
      "Great Falls\n",
      "Honolulu\n"
     ]
    }
   ],
   "source": [
    "cleanest_cities = [\"Cheyenne\", \"Santa Fe\", \"Tucson\",\"Great Falls\", \"Honolulu\"]\n",
    "for a_clean_city in cleanest_cities:\n",
    "    print(a_clean_city)"
   ]
  },
  {
   "cell_type": "code",
   "execution_count": 5,
   "metadata": {},
   "outputs": [
    {
     "name": "stdout",
     "output_type": "stream",
     "text": [
      "Enter cityTucson\n",
      "not clean\n",
      "not clean\n",
      "city is clean\n",
      "not clean\n",
      "not clean\n"
     ]
    }
   ],
   "source": [
    "cleanest_cities = [\"Cheyenne\", \"Santa Fe\", \"Tucson\",\"Great Falls\", \"Honolulu\"]\n",
    "val =input(\"Enter city\")\n",
    "for a in cleanest_cities:\n",
    "    if val == a:\n",
    "        print(\"city is clean\")\n",
    "    else:\n",
    "        print(\"not clean\")\n"
   ]
  },
  {
   "cell_type": "code",
   "execution_count": 6,
   "metadata": {},
   "outputs": [
    {
     "name": "stdout",
     "output_type": "stream",
     "text": [
      "['BlueRay  Zzz', 'BlueRay  Burp', 'BlueRay  Dogbone', 'BlueRay  Droop', 'Upchuck  Zzz', 'Upchuck  Burp', 'Upchuck  Dogbone', 'Upchuck  Droop', 'Lojack  Zzz', 'Lojack  Burp', 'Lojack  Dogbone', 'Lojack  Droop', 'Gizmo  Zzz', 'Gizmo  Burp', 'Gizmo  Dogbone', 'Gizmo  Droop', 'Do-Rag  Zzz', 'Do-Rag  Burp', 'Do-Rag  Dogbone', 'Do-Rag  Droop']\n"
     ]
    }
   ],
   "source": [
    "first_names = [\"BlueRay \", \"Upchuck \", \"Lojack \",\"Gizmo \", \"Do-Rag \"]\n",
    "last_names = [\"Zzz\", \"Burp\", \"Dogbone\", \"Droop\"]\n",
    "full_names = []\n",
    "for a_first_name in first_names:\n",
    "    for a_last_name in last_names:\n",
    "        full_names.append(a_first_name + \" \" +a_last_name)\n",
    "print(full_names)"
   ]
  },
  {
   "cell_type": "code",
   "execution_count": 7,
   "metadata": {},
   "outputs": [
    {
     "name": "stdout",
     "output_type": "stream",
     "text": [
      "15\n"
     ]
    }
   ],
   "source": [
    "a=5\n",
    "c=10\n",
    "b=str(a+c)\n",
    "print(b)"
   ]
  },
  {
   "cell_type": "code",
   "execution_count": 8,
   "metadata": {},
   "outputs": [
    {
     "name": "stdout",
     "output_type": "stream",
     "text": [
      "510\n"
     ]
    }
   ],
   "source": [
    "a=5\n",
    "c=10\n",
    "b=str(a)+str(c)\n",
    "print(b)"
   ]
  },
  {
   "cell_type": "code",
   "execution_count": 9,
   "metadata": {},
   "outputs": [
    {
     "name": "stdout",
     "output_type": "stream",
     "text": [
      "Ali\n"
     ]
    }
   ],
   "source": [
    "a = \"ali\"\n",
    "print(a.title())"
   ]
  },
  {
   "cell_type": "code",
   "execution_count": 10,
   "metadata": {},
   "outputs": [
    {
     "name": "stdout",
     "output_type": "stream",
     "text": [
      "Numeric Value Not Exist\n",
      "Numeric Value Not Exist\n",
      "Numeric Value Not Exist\n",
      "Numeric Value Not Exist\n",
      "Numeric Value Exist\n"
     ]
    }
   ],
   "source": [
    "numeric_values =[2,5,442,83,8,9,7]\n",
    "check_numeric_value_exist = 8\n",
    "for number in numeric_values:\n",
    "    if check_numeric_value_exist == number:\n",
    "        print(\"Numeric Value Exist\")\n",
    "        break\n",
    "    else :\n",
    "        print(\"Numeric Value Not Exist\")"
   ]
  },
  {
   "cell_type": "code",
   "execution_count": 11,
   "metadata": {},
   "outputs": [
    {
     "name": "stdout",
     "output_type": "stream",
     "text": [
      "87867 karachi\n"
     ]
    }
   ],
   "source": [
    "customer = {\"first name\" : \"David\",\"last name\" : \"raza\",\"address\" : \"87867 karachi\"}\n",
    "print(customer[\"address\"])"
   ]
  },
  {
   "cell_type": "code",
   "execution_count": null,
   "metadata": {},
   "outputs": [],
   "source": []
  },
  {
   "cell_type": "code",
   "execution_count": 19,
   "metadata": {},
   "outputs": [
    {
     "name": "stdout",
     "output_type": "stream",
     "text": [
      "8\n",
      "13\n",
      "22\n"
     ]
    }
   ],
   "source": [
    "#Q4sum all numeric items\n",
    "dict={'key1': 'karachi', 'key2': 'Lahore', 'key3': 'Islamabad','key4': 8, 'key5': 5,'key6': 9}\n",
    "sum = 0\n",
    "for a in dict.values():\n",
    "    if type(a) == int:\n",
    "        sum += a\n",
    "        print(sum)"
   ]
  },
  {
   "cell_type": "code",
   "execution_count": 17,
   "metadata": {},
   "outputs": [
    {
     "name": "stdout",
     "output_type": "stream",
     "text": [
      "8\n",
      "13\n",
      "22\n"
     ]
    }
   ],
   "source": [
    "#Q4sum all numeric items\n",
    "dict={'key1': 'karachi', 'key2': 'Lahore', 'key3': 'Islamabad','key4': 8, 'key5': 5,'key6': 9}\n",
    "sum = 0\n",
    "for a in dict.values():\n",
    "    if type(a) == int:\n",
    "        sum = sum + a\n",
    "        print(sum)"
   ]
  },
  {
   "cell_type": "code",
   "execution_count": 20,
   "metadata": {},
   "outputs": [
    {
     "ename": "SyntaxError",
     "evalue": "invalid syntax (<ipython-input-20-c28c68bc8525>, line 7)",
     "output_type": "error",
     "traceback": [
      "\u001b[1;36m  File \u001b[1;32m\"<ipython-input-20-c28c68bc8525>\"\u001b[1;36m, line \u001b[1;32m7\u001b[0m\n\u001b[1;33m    if a[i] == a[c] and a[i] is not in  repeated :\u001b[0m\n\u001b[1;37m                                     ^\u001b[0m\n\u001b[1;31mSyntaxError\u001b[0m\u001b[1;31m:\u001b[0m invalid syntax\n"
     ]
    }
   ],
   "source": [
    "a=[1,4,6,6,8,9,9]\n",
    "rng = len(a)\n",
    "repeated =[]\n",
    "for i in range(rng):\n",
    "    b = i + 1\n",
    "    for c in range(b,rng):\n",
    "        if a[i] == a[c] and a[i] is not in  repeated :\n",
    "            repeated.appen(a[i])\n",
    "            print(repeated)\n",
    "    "
   ]
  },
  {
   "cell_type": "code",
   "execution_count": 21,
   "metadata": {},
   "outputs": [
    {
     "name": "stdout",
     "output_type": "stream",
     "text": [
      "[10, 20, 30, 40, 50]\n"
     ]
    }
   ],
   "source": [
    "def unique_list(list):\n",
    "    uniq_list = []\n",
    "    uniq_set = set()\n",
    "    for item in list:\n",
    "       if item not in uniq_set:\n",
    "            uniq_list.append(item)\n",
    "            uniq_set.add(item)\n",
    "    return uniq_list\n",
    " \n",
    "list = [10,20,30,10,10,30,40,50]\n",
    "print(unique_list(list))"
   ]
  },
  {
   "cell_type": "code",
   "execution_count": 22,
   "metadata": {},
   "outputs": [
    {
     "name": "stdout",
     "output_type": "stream",
     "text": [
      "Finland\n"
     ]
    }
   ],
   "source": [
    "rankings = {\n",
    "5\n",
    ": \"Finland\", \n",
    "2\n",
    ": \"Norway\", \n",
    "3\n",
    ": \"Sweden\",\n",
    "7\n",
    ": \"Iceland\"}\n",
    "print(rankings[5])"
   ]
  },
  {
   "cell_type": "code",
   "execution_count": 24,
   "metadata": {},
   "outputs": [
    {
     "name": "stdout",
     "output_type": "stream",
     "text": [
      "{'first name': 'David', 'last name': 'raza', 'address': '87867 karachi'}\n",
      "{'first name': 'David', 'last name': 'raza', 'address': '87867 karachi', 'income': '98 Thousand'}\n"
     ]
    }
   ],
   "source": [
    "customer = {\"first name\" : \"David\",\"last name\" : \"raza\",\"address\" : \"87867 karachi\"}\n",
    "print(customer)\n",
    "customer[\"income\"]= \"98 Thousand\"\n",
    "print(customer)\n"
   ]
  },
  {
   "cell_type": "code",
   "execution_count": 25,
   "metadata": {},
   "outputs": [
    {
     "name": "stdout",
     "output_type": "stream",
     "text": [
      "Ali\n"
     ]
    }
   ],
   "source": [
    "customer = {\"first name\" : \"David\",\"last name\" : \"raza\",\"address\" : \"87867 karachi\"}\n",
    "customer[\"first name\"]= \"Ali\"\n",
    "print(customer[\"first name\"])\n"
   ]
  },
  {
   "cell_type": "code",
   "execution_count": 26,
   "metadata": {},
   "outputs": [
    {
     "name": "stdout",
     "output_type": "stream",
     "text": [
      "{'last name': 'raza', 'address': '87867 karachi'}\n"
     ]
    }
   ],
   "source": [
    "customer = {\"first name\" : \"David\",\"last name\" : \"raza\",\"address\" : \"87867 karachi\"}\n",
    "del customer[\"first name\"]\n",
    "print(customer)\n"
   ]
  },
  {
   "cell_type": "code",
   "execution_count": 27,
   "metadata": {},
   "outputs": [
    {
     "name": "stdout",
     "output_type": "stream",
     "text": [
      "{'last name': 'raza', 'address': '87867 karachi'}\n"
     ]
    }
   ],
   "source": [
    "customer = {\"first name\" : \"David\",\"last name\" : \"raza\",\"address\" : \"87867 karachi\"}\n",
    "del customer[\"first name\"]\n",
    "print(customer)\n"
   ]
  },
  {
   "cell_type": "code",
   "execution_count": 28,
   "metadata": {},
   "outputs": [
    {
     "name": "stdout",
     "output_type": "stream",
     "text": [
      "David\n",
      "raza\n",
      "87867 karachi\n",
      "Finland\n",
      "Norway\n",
      "Sweden\n",
      "Iceland\n"
     ]
    }
   ],
   "source": [
    "customer = {\"first name\" : \"David\",\"last name\" : \"raza\",\"address\" : \"87867 karachi\",5: \"Finland\", \n",
    "            2: \"Norway\", 3 : \"Sweden\",7: \"Iceland\"}\n",
    "for a in customer.values():\n",
    "    print(a)"
   ]
  },
  {
   "cell_type": "code",
   "execution_count": 29,
   "metadata": {},
   "outputs": [
    {
     "name": "stdout",
     "output_type": "stream",
     "text": [
      "first name\n",
      "last name\n",
      "address\n",
      "5\n",
      "2\n",
      "3\n",
      "7\n"
     ]
    }
   ],
   "source": [
    "customer = {\"first name\" : \"David\",\"last name\" : \"raza\",\"address\" : \"87867 karachi\",5: \"Finland\", \n",
    "            2: \"Norway\", 3 : \"Sweden\",7: \"Iceland\"}\n",
    "for a in customer.keys():\n",
    "    print(a)"
   ]
  },
  {
   "cell_type": "code",
   "execution_count": 33,
   "metadata": {},
   "outputs": [
    {
     "name": "stdout",
     "output_type": "stream",
     "text": [
      "first name\n",
      "last name\n",
      "address\n",
      "5\n",
      "2\n",
      "3\n",
      "7\n",
      "first name\n",
      "last name\n",
      "address\n",
      "5\n",
      "2\n",
      "3\n",
      "7\n"
     ]
    }
   ],
   "source": [
    "customer = {\"first name\" : \"David\",\"last name\" : \"raza\",\"address\" : \"87867 karachi\",5: \"Finland\", \n",
    "            2: \"Norway\", 3 : \"Sweden\",7: \"Iceland\"}\n",
    "for a_key in customer.keys():\n",
    "    print(a_key)\n",
    "for a_value in customer.keys():\n",
    "    print(a_value)\n",
    "        "
   ]
  },
  {
   "cell_type": "code",
   "execution_count": 36,
   "metadata": {},
   "outputs": [
    {
     "name": "stdout",
     "output_type": "stream",
     "text": [
      "The customer  first name is David\n",
      "The customer  last name is raza\n",
      "The customer  address is 87867 karachi\n",
      "The customer  5 is Finland\n",
      "The customer  2 is Norway\n",
      "The customer  3 is Sweden\n",
      "The customer  7 is Iceland\n"
     ]
    }
   ],
   "source": [
    "customer = {\"first name\" : \"David\",\"last name\" : \"raza\",\"address\" : \"87867 karachi\",5: \"Finland\", \n",
    "            2: \"Norway\", 3 : \"Sweden\",7: \"Iceland\"}\n",
    "for each_key,each_value in customer.items():\n",
    "    print(\"The customer  \" + str(each_key) + \" is \" +\n",
    "str(each_value))"
   ]
  },
  {
   "cell_type": "code",
   "execution_count": null,
   "metadata": {},
   "outputs": [],
   "source": []
  }
 ],
 "metadata": {
  "kernelspec": {
   "display_name": "Python 3",
   "language": "python",
   "name": "python3"
  },
  "language_info": {
   "codemirror_mode": {
    "name": "ipython",
    "version": 3
   },
   "file_extension": ".py",
   "mimetype": "text/x-python",
   "name": "python",
   "nbconvert_exporter": "python",
   "pygments_lexer": "ipython3",
   "version": "3.7.4"
  }
 },
 "nbformat": 4,
 "nbformat_minor": 2
}
