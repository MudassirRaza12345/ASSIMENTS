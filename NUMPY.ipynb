{
 "cells": [
  {
   "cell_type": "markdown",
   "metadata": {},
   "source": [
    "# READ FILE EXAMPLE START"
   ]
  },
  {
   "cell_type": "markdown",
   "metadata": {},
   "source": [
    "#Today Class Target\n",
    "How can we file and file manipulation,Libraries ko kaisa import krta ha\n",
    "Also we covered Numpy \n",
    "Numpy ka matlab means mukti dimensions array so array ka darmian ap samishan\n",
    "krata ha is normally done throug python programming ap loop lagana prta ha \n",
    "jis ka behalf pr wo proper kam krta but in numpy it can work in proper way\n",
    "numerical computing hogae,apka ps koi algebric ka behalf ma ap jb matrices \n",
    "ki koi implementation krta ho for that purpose we used numpy library\n"
   ]
  },
  {
   "cell_type": "code",
   "execution_count": 13,
   "metadata": {},
   "outputs": [
    {
     "name": "stdout",
     "output_type": "stream",
     "text": [
      "000\n",
      "111\n",
      "222\n"
     ]
    }
   ],
   "source": [
    "#How can we read other file\n",
    "#on home page                                            New\n",
    "#                                                        Notebook: \n",
    "#                                                         python3\n",
    "#                                                         Otherfile:\n",
    "#                                                         Textfie\n",
    "#                                                          Folder\n",
    "#                                                          Terminal\n",
    "#we go on Textfile create text file and save it without save it will not work.\n",
    "#ab mna jo textfile banae ha is ka data ko ma pthon is page pr read kro\n",
    "#ab mna  with open(\"untitled.txt\")apni file ka naam ps krdiya\n",
    "#as  ksi variable ka ander humko ya data chaya\n",
    "#ab ma is data aik variable ma stored kro ga jis ka naam mna contents rkha ha\n",
    "#ab mujha is pr read ka fuction perform krwana ha\n",
    "\n",
    "#open ko jo method hota ha jo apki is file ko open kraga jo ap read krna chata \n",
    "#ho \n",
    "#then jo apka ps content araha isko specific name dena zarori ha then \n",
    "#with ka keyword for example open ka keyword sa ap na file open to krdi\n",
    "#but close kaisa kra ga to with ka function ya functionality perform krta\n",
    "#jb ap  ki file ma sa tamam content read hojata ha to with ka keyword \n",
    "#automatically close krdega file ko\n",
    "\n",
    "\n",
    "\n",
    "with open(\"untitled.txt\") as practicefile:\n",
    "    contents= practicefile.read()\n",
    "    print(contents)"
   ]
  },
  {
   "cell_type": "code",
   "execution_count": 14,
   "metadata": {},
   "outputs": [
    {
     "name": "stdout",
     "output_type": "stream",
     "text": [
      "000\n",
      "111\n",
      "222\n"
     ]
    }
   ],
   "source": [
    "#mna text file ma extra white space de ha \n",
    "#123\n",
    "#456\n",
    "#789\n",
    "#\n",
    "#\n",
    "#\n",
    "#\n",
    "#ab ma cha ta wo extra whitte space na print ho to hum apna code rstrip()\n",
    "# used kra ga\n",
    "#iski waja extra nahi ae gi\n",
    "with open(\"untitled.txt\") as practicefile:\n",
    "    contents= practicefile.read()\n",
    "    print(contents.rstrip())"
   ]
  },
  {
   "cell_type": "code",
   "execution_count": 4,
   "metadata": {},
   "outputs": [
    {
     "name": "stdout",
     "output_type": "stream",
     "text": [
      "umair\n",
      "ali\n",
      "osama\n",
      "uzair\n",
      "raza\n",
      "riaza\n"
     ]
    }
   ],
   "source": [
    "#ab chata hon aik folder bnao is folder sa mera data get ho \n",
    "#How can we read other folder file\n",
    "#on home page                                            New\n",
    "#                                                        Notebook: \n",
    "#                                                         python3\n",
    "#                                                         Otherfile:\n",
    "#                                                         Textfie\n",
    "#                                                          Folder\n",
    "#                                                          Terminal\n",
    "#we go on folder create folder\n",
    "#ab ap nicha dekha ga untitled folder ab is pr click kra ga to ap ko ya\n",
    "#options mila ga \n",
    "#                                                             New\n",
    "#                                                        Notebook: \n",
    "#                                                         python3\n",
    "#                                                         Otherfile:\n",
    "#                                                         Textfie\n",
    "#                                                          Folder\n",
    "#                                                          Terminal\n",
    "#ap text file pr click krka aik textfile bnalaga\n",
    "#and save it without save it will not work.\n",
    "#mera ps untitled ka naam sa aik file moujood ap ma isko naam\n",
    "#doga untitled2\n",
    "\n",
    "#mujha yha apna folder ka naam dena hoga iska baad folder jo file ha is ka naam\n",
    "#dena hoga bqi syntax waisa hi rha ga jo textfile ka lya used kiya ha\n",
    "\n",
    "with open(\"Untitled Folder/untitled2.txt\") as practicefile:\n",
    "    contents= practicefile.read()\n",
    "    print(contents.rstrip())\n"
   ]
  },
  {
   "cell_type": "code",
   "execution_count": null,
   "metadata": {},
   "outputs": [],
   "source": []
  },
  {
   "cell_type": "code",
   "execution_count": 5,
   "metadata": {},
   "outputs": [
    {
     "name": "stdout",
     "output_type": "stream",
     "text": [
      "umair\n",
      "ali\n",
      "osama\n",
      "uzair\n",
      "raza\n",
      "riaza\n"
     ]
    }
   ],
   "source": [
    "#abhi tq hum with open() ka ander file ps kr rha tha ab hum aik variable bna kr \n",
    "#is ka file ps kra ga\n",
    "#mna file path ka variable bnalya ha ab hum is ka ander aik dafa file location\n",
    "#dalda ga is ka baad dobra dalna ki hum ko zarorat nhi\n",
    "filepath = \"Untitled Folder/untitled2.txt\"\n",
    "#is ka baad with open ap just file ps kra ga is ma location ko br br dena ki\n",
    "# zarorat nhi hogi\n",
    "with open(filepath) as practicefile:\n",
    "    contents= practicefile.read()\n",
    "    print(contents.rstrip())\n"
   ]
  },
  {
   "cell_type": "code",
   "execution_count": 15,
   "metadata": {},
   "outputs": [
    {
     "name": "stdout",
     "output_type": "stream",
     "text": [
      "000\n",
      "\n",
      "111\n",
      "\n",
      "222\n"
     ]
    }
   ],
   "source": [
    "#agr ma chata hon for ka loop chalaao with ka method to ma asa kya karo ka \n",
    "#tamam cheeza mujha for ka loop ma mil jaa with ka ander ki\n",
    "#filepath = \"untitled.txt\"\n",
    "#with open(filepath) as practicefile:\n",
    " #   contents= practicefile.read()\n",
    "    \n",
    "#ab ma chata ho yha print na ho balqa outside of the scoope print ho\n",
    "#mera with scope and(khatam) ho chuka ha ab ma chata hon\n",
    "#ab is scope sa bhr cheezon ko get kro to wo ma kaisa kro ga\n",
    "#hum na loop ka ander forin ka loop pra tha ya kb kam ata ha jb text file\n",
    "#ka ander multiple line ho ,jb multiple aka ps content ho to ap isko loop\n",
    "#chalaka one by one kaisa get kra\n",
    "#ab hum srf read konhi balqa readlines ka method ko used kra ga\n",
    "filepath = \"untitled.txt\"\n",
    "with open(filepath) as practicefile:\n",
    "    contents= practicefile.readlines()\n",
    "\n",
    "    \n",
    "for line in contents:\n",
    "    print(line)\n",
    "\n"
   ]
  },
  {
   "cell_type": "code",
   "execution_count": 16,
   "metadata": {},
   "outputs": [
    {
     "name": "stdout",
     "output_type": "stream",
     "text": [
      "000\n",
      "111\n",
      "222\n"
     ]
    }
   ],
   "source": [
    "#for removing empty spaces we rstrip()\n",
    "filepath = \"untitled.txt\"\n",
    "with open(filepath) as practicefile:\n",
    "    contents= practicefile.readlines()\n",
    "\n",
    "    \n",
    "for line in contents:\n",
    "    print(line.rstrip())\n"
   ]
  },
  {
   "cell_type": "code",
   "execution_count": 8,
   "metadata": {},
   "outputs": [],
   "source": [
    "#ab ma chta ho mera jitna data ha wo alag line ma print hona ka bjaa aik single\n",
    "#line ma print hojaa to "
   ]
  },
  {
   "cell_type": "code",
   "execution_count": 17,
   "metadata": {},
   "outputs": [
    {
     "name": "stdout",
     "output_type": "stream",
     "text": [
      "000111222\n"
     ]
    }
   ],
   "source": [
    "filepath = \"untitled.txt\"\n",
    "with open(filepath) as practicefile:\n",
    "    contents= practicefile.readlines()\n",
    "#first we declare empty variable\n",
    "oneline=\"\"\n",
    "\n",
    "for line in contents:\n",
    "    oneline += line.rstrip()   #ab hum .rstrip used kra ga jis answer aik\n",
    "    # line ma print hojaa ga or agr hum rstrip ka method ko call nhi krta to\n",
    "    #wo empty space ko neglect nhi kra ga\n",
    "    #oneline += line means oneline aik line pr print kra .\n",
    "#+= apna jo cheez pass ki ha wo iska ander hi append(add)krta rha ga    \n",
    "#one file ma line sa value mila gi wo brbr add hota rha gi isma or jakr\n",
    "#phir oneline\"\" stored hojaa gi. \n",
    "\n",
    "print(oneline)\n",
    "    \n",
    "    \n",
    "    \n",
    "    \n",
    "    \n",
    "    \n",
    "    \n",
    "    "
   ]
  },
  {
   "cell_type": "code",
   "execution_count": 18,
   "metadata": {},
   "outputs": [
    {
     "name": "stdout",
     "output_type": "stream",
     "text": [
      "000111  still continue\n",
      "9\n",
      "\n",
      "------------------------ xxxxxx-----------------------\n",
      "Examples of file read end\n",
      "------------------------ xxxxxx-----------------------\n"
     ]
    }
   ],
   "source": [
    "#ab ap chta ha ka apki file  sab content na ae balqa specific content ae\n",
    "#for 123456789 ma 123456 show ho is baad koi content show na ho\n",
    "filepath = \"untitled.txt\"\n",
    "with open(filepath) as practicefile:\n",
    "    contents= practicefile.readlines()\n",
    "#first we declare empty variable\n",
    "oneline=\"\"\n",
    "\n",
    "for line in contents:\n",
    "    oneline += line.rstrip()\n",
    "#slicing ka method used kra ga \n",
    "#[:]\n",
    "#[:6]agr hum isma starting ma kuch  nhi likha ga to phela \n",
    "#number pr cheez hogi isko lala ga first pr\n",
    "#like yha one ha is lya one is jga pr rekla ga\n",
    "print(oneline[:6] +\"  \"+\"still continue\")\n",
    "#ab hum check krta ha slicing krna ka baat iski initial length baqi rhagi\n",
    "# ya nhi\n",
    "print(len(oneline))\n",
    "#to iski len isna 9 hi bataae change nhi hoe\n",
    "print(\"\\n------------------------ xxxxxx-----------------------\\nExamples of file read end\\n------------------------ xxxxxx-----------------------\")"
   ]
  },
  {
   "cell_type": "code",
   "execution_count": 20,
   "metadata": {},
   "outputs": [],
   "source": [
    "#ab ma chata ho ka  ma apni file ka ander koi cheez write krwada\n",
    "#yan koi code likho ya koi line likho jo file ma jaka stored hojaa\n",
    "\n",
    "filepath = \"untitled.txt\"\n",
    "\n",
    "with open(filepath,'w') as practicefile:\n",
    "    practicefile.write(\"000\")\n",
    "    \n",
    "    \n",
    "#agr apko write ka operation perform krna  ha to ap filepath ka sath \"w\" likha\n",
    "#ga jo write ka operation ko bata rhi ha.\n",
    "     "
   ]
  },
  {
   "cell_type": "code",
   "execution_count": 21,
   "metadata": {},
   "outputs": [],
   "source": [
    "filepath = \"untitled.txt\"\n",
    "\n",
    "with open(filepath,'w') as practicefile:\n",
    "    practicefile.write(\"000\\n\")# \\n when use multi-line\n",
    "   # PracticeFile.write(\"111\") #for multi-line for separation we used \\n\n",
    "    practicefile.write(\"111\\n\")"
   ]
  },
  {
   "cell_type": "code",
   "execution_count": 22,
   "metadata": {},
   "outputs": [],
   "source": [
    "#jb mna write ka operation perform kiya to mera ps prona data remove ho gya\n",
    "#or new data jo mna write ka zarya diya wo agya ab ma chata hon kuch asa kro\n",
    "#ka porana data bhi mujha miljaa.\n",
    "#or ma jo new cheez likhwana chahrha wo print ho\n",
    "#iska hum aik operation perform krta jisko append ka operation kheta ha\n",
    "filepath = \"untitled.txt\"\n",
    "#agr ma yha write ka operaion perform krta hon to content ma overwrite krdaga\n",
    "#or porana data(content)ko removed krdaga islya hum na 'a'(append) likha jis\n",
    "#wo is file ma ajaaga or porana data bhi rha ga\n",
    "with open(filepath,'a') as practicefile:\n",
    "    practicefile.write(\"222\")\n",
    "   \n",
    "    "
   ]
  },
  {
   "cell_type": "code",
   "execution_count": 24,
   "metadata": {},
   "outputs": [
    {
     "name": "stdout",
     "output_type": "stream",
     "text": [
      "This operation cannot perform\n"
     ]
    }
   ],
   "source": [
    "#suppose we 5 divide 0 agr ya kaam python ko bolo ga to wo dega 0 division\n",
    "#error to hamara ps python ka ander jo cases hota hainko kheta ha exception\n",
    "#agr in ko control krna ha jaise ap error pta ha koi bhi cheez 0 sa divide\n",
    "#to error ae ga 0 division error\n",
    "#ab hum maaloom python error dedaga to ya cheez humko execution sa phela check\n",
    "#krani ha\n",
    "#All programming language ka ander try and catch ko used krta ho \n",
    "#try ma koi cheez ko try krta ha \n",
    "#or catch ma isma agr koi error hota ha to check krta ha \n",
    "#python ka ander hamara ps hota try or exception ka block hota\n",
    "#koi cheez ap try krta ho suppose in do ko divide krta ho \n",
    "#exception ma jo error ae iska against ma apna kya answer dena wo batana hoga\n",
    "firstnum=5\n",
    "secondnum=0\n",
    "\n",
    "try:\n",
    "    answer=firstnum/secondnum\n",
    "except ZeroDivisionError:\n",
    "    print(\"This operation cannot perform\")\n",
    "else:#agr zero na ho to is else ka block ma answer ko print krdo\n",
    "    print(answer)\n",
    "\n",
    "    \n"
   ]
  },
  {
   "cell_type": "code",
   "execution_count": 25,
   "metadata": {},
   "outputs": [
    {
     "name": "stdout",
     "output_type": "stream",
     "text": [
      "1.6666666666666667\n"
     ]
    }
   ],
   "source": [
    "firstnum=5\n",
    "secondnum=3\n",
    "\n",
    "try:\n",
    "    answer=firstnum/secondnum\n",
    "except ZeroDivisionError:\n",
    "    print(\"This operation cannot perform\")\n",
    "else:#agr zero na ho to is else ka block ma answer ko print krdo\n",
    "    print(answer)\n",
    "\n",
    "    \n",
    "\n"
   ]
  },
  {
   "cell_type": "code",
   "execution_count": 26,
   "metadata": {},
   "outputs": [
    {
     "name": "stdout",
     "output_type": "stream",
     "text": [
      "000\n",
      "111\n",
      "222\n"
     ]
    }
   ],
   "source": [
    "#some time you find some file python give error that file not found error \n",
    "#agr is ko file na mila\n",
    "try:\n",
    "    with open(\"untitled.txt\") as practicefile:\n",
    "        contents= practicefile.read()\n",
    "        \n",
    "#agr isko file nhi mile\n",
    "except FileNotFoundError:\n",
    "    print(\"your file path is not correct\")\n",
    "else:#agr file present ho to tamam cheeza contents ma ajaa gi\n",
    "    print(contents)"
   ]
  },
  {
   "cell_type": "code",
   "execution_count": 27,
   "metadata": {},
   "outputs": [
    {
     "name": "stdout",
     "output_type": "stream",
     "text": [
      "your file path is not correct\n"
     ]
    }
   ],
   "source": [
    "#some time you find some file python give error that file not found error \n",
    "#agr is ko file na mila\n",
    "try:\n",
    "    with open(\"untitled3.txt\") as practicefile:\n",
    "        contents= practicefile.read()\n",
    "        \n",
    "#agr isko file nhi mile\n",
    "except FileNotFoundError:\n",
    "    print(\"your file path is not correct\")\n",
    "else:#agr file present ho to tamam cheeza contents ma ajaa gi\n",
    "    print(contents)"
   ]
  },
  {
   "cell_type": "code",
   "execution_count": null,
   "metadata": {},
   "outputs": [],
   "source": []
  },
  {
   "cell_type": "markdown",
   "metadata": {},
   "source": [
    "# MODULE EXAMPLE START"
   ]
  },
  {
   "cell_type": "code",
   "execution_count": 23,
   "metadata": {},
   "outputs": [
    {
     "ename": "FileNotFoundError",
     "evalue": "[Errno 2] No such file or directory: 'Book2.csv'",
     "output_type": "error",
     "traceback": [
      "\u001b[1;31m---------------------------------------------------------------------------\u001b[0m",
      "\u001b[1;31mFileNotFoundError\u001b[0m                         Traceback (most recent call last)",
      "\u001b[1;32m<ipython-input-23-e0b3d4e781b3>\u001b[0m in \u001b[0;36m<module>\u001b[1;34m\u001b[0m\n\u001b[0;32m      5\u001b[0m \u001b[1;31m#sab sa apna csv ka module import krna\u001b[0m\u001b[1;33m\u001b[0m\u001b[1;33m\u001b[0m\u001b[1;33m\u001b[0m\u001b[0m\n\u001b[0;32m      6\u001b[0m \u001b[1;32mimport\u001b[0m \u001b[0mcsv\u001b[0m\u001b[1;33m\u001b[0m\u001b[1;33m\u001b[0m\u001b[0m\n\u001b[1;32m----> 7\u001b[1;33m \u001b[1;32mwith\u001b[0m \u001b[0mopen\u001b[0m\u001b[1;33m(\u001b[0m\u001b[1;34m\"Book2.csv\"\u001b[0m\u001b[1;33m)\u001b[0m \u001b[1;32mas\u001b[0m \u001b[0mpracticefile\u001b[0m\u001b[1;33m:\u001b[0m\u001b[1;33m\u001b[0m\u001b[1;33m\u001b[0m\u001b[0m\n\u001b[0m\u001b[0;32m      8\u001b[0m     \u001b[0mcontents\u001b[0m\u001b[1;33m=\u001b[0m \u001b[0mcsv\u001b[0m\u001b[1;33m.\u001b[0m\u001b[0mreader\u001b[0m\u001b[1;33m(\u001b[0m\u001b[0mpracticefile\u001b[0m\u001b[1;33m)\u001b[0m\u001b[1;33m\u001b[0m\u001b[1;33m\u001b[0m\u001b[0m\n\u001b[0;32m      9\u001b[0m     \u001b[1;32mfor\u001b[0m \u001b[0mline\u001b[0m \u001b[1;32min\u001b[0m \u001b[0mcontents\u001b[0m\u001b[1;33m:\u001b[0m\u001b[1;33m\u001b[0m\u001b[1;33m\u001b[0m\u001b[0m\n",
      "\u001b[1;31mFileNotFoundError\u001b[0m: [Errno 2] No such file or directory: 'Book2.csv'"
     ]
    }
   ],
   "source": [
    "#ap ka excel ki file hoti ha wo CSV(Comma Separated Value) file hoti ha\n",
    "#ab agr ap ka ps koi excel ki file ha isma muliple coloumns hota ha \n",
    "#multiple data hota ha in file ka ander ap data kaise get kro ga \n",
    "#suppose excel ki file is ma sa ap data kaise get kro ga\n",
    "#sab sa apna csv ka module import krna \n",
    "import csv\n",
    "with open(\"Book2.csv\") as practicefile:\n",
    "    contents= csv.reader(practicefile)\n",
    "    for line in contents:\n",
    "        print(line)\n",
    "        #csv.reader is the syntax to excess\n",
    "#csv file ab for ka loop ki zarorat paragi to excess row and coloumn in excel\n",
    "#file\n",
    " "
   ]
  },
  {
   "cell_type": "code",
   "execution_count": 20,
   "metadata": {},
   "outputs": [
    {
     "ename": "FileNotFoundError",
     "evalue": "[Errno 2] No such file or directory: 'data.csv'",
     "output_type": "error",
     "traceback": [
      "\u001b[1;31m---------------------------------------------------------------------------\u001b[0m",
      "\u001b[1;31mFileNotFoundError\u001b[0m                         Traceback (most recent call last)",
      "\u001b[1;32m<ipython-input-20-03bcb6a3f166>\u001b[0m in \u001b[0;36m<module>\u001b[1;34m\u001b[0m\n\u001b[0;32m      1\u001b[0m \u001b[1;32mimport\u001b[0m \u001b[0mcsv\u001b[0m\u001b[1;33m\u001b[0m\u001b[1;33m\u001b[0m\u001b[0m\n\u001b[0;32m      2\u001b[0m \u001b[1;33m\u001b[0m\u001b[0m\n\u001b[1;32m----> 3\u001b[1;33m \u001b[1;32mwith\u001b[0m \u001b[0mopen\u001b[0m\u001b[1;33m(\u001b[0m\u001b[1;34m'data.csv'\u001b[0m\u001b[1;33m)\u001b[0m \u001b[1;32mas\u001b[0m \u001b[0mPracticeFile\u001b[0m\u001b[1;33m:\u001b[0m\u001b[1;33m\u001b[0m\u001b[1;33m\u001b[0m\u001b[0m\n\u001b[0m\u001b[0;32m      4\u001b[0m     \u001b[0mcontents\u001b[0m\u001b[1;33m=\u001b[0m\u001b[0mcsv\u001b[0m\u001b[1;33m.\u001b[0m\u001b[0mreader\u001b[0m\u001b[1;33m(\u001b[0m\u001b[0mPracticeFile\u001b[0m\u001b[1;33m)\u001b[0m\u001b[1;33m\u001b[0m\u001b[1;33m\u001b[0m\u001b[0m\n\u001b[0;32m      5\u001b[0m     \u001b[1;32mfor\u001b[0m \u001b[0mline\u001b[0m \u001b[1;32min\u001b[0m \u001b[0mcontents\u001b[0m\u001b[1;33m:\u001b[0m\u001b[1;33m\u001b[0m\u001b[1;33m\u001b[0m\u001b[0m\n",
      "\u001b[1;31mFileNotFoundError\u001b[0m: [Errno 2] No such file or directory: 'data.csv'"
     ]
    }
   ],
   "source": [
    "import csv#EXPORT AS CSV\n",
    "\n",
    "with open('data.csv') as PracticeFile:\n",
    "    contents=csv.reader(PracticeFile)\n",
    "    for line in contents:\n",
    "        print(line)"
   ]
  },
  {
   "cell_type": "code",
   "execution_count": 21,
   "metadata": {},
   "outputs": [
    {
     "name": "stdout",
     "output_type": "stream",
     "text": [
      "3.141592653589793\n"
     ]
    }
   ],
   "source": [
    "#BULTIN MODULE HA HAMRA PS HA MATH KA MODULE TO HUM MODULE KO IMPORT KRTA HA\n",
    "import math#hum ab math ka tamam module ko import krsakta ha\n",
    "print(math.pi)"
   ]
  },
  {
   "cell_type": "code",
   "execution_count": 22,
   "metadata": {},
   "outputs": [
    {
     "name": "stdout",
     "output_type": "stream",
     "text": [
      "3.141592653589793\n"
     ]
    }
   ],
   "source": [
    "#ab ma apsa kheta ha ka math ka jo module arha is ka  naam change krdo\n",
    "import math as mymath#ab ma module apni tamam file mymath ka zarya imort krloga\n",
    "#ab mujha agr pi ki value chaya ha to mymath ka zarya print krlo ga\n",
    "print(mymath.pi)"
   ]
  },
  {
   "cell_type": "code",
   "execution_count": 23,
   "metadata": {},
   "outputs": [
    {
     "name": "stdout",
     "output_type": "stream",
     "text": [
      "3.141592653589793\n"
     ]
    }
   ],
   "source": [
    "#ap ka math ka jo module ha is ma bhot sara operation ha like pi ka ha, square\n",
    "#ka ha,ceiling,floor,log etc iska multiple operation ha apko pora module import\n",
    "#nhi krna is ma sa ksi specific fuction ko import krna ha\n",
    "from math import pi\n",
    "print(pi)\n"
   ]
  },
  {
   "cell_type": "code",
   "execution_count": 25,
   "metadata": {},
   "outputs": [
    {
     "name": "stdout",
     "output_type": "stream",
     "text": [
      "3.141592653589793\n"
     ]
    }
   ],
   "source": [
    "from math import * #star ka matlab ha is module ki tamam cheeza import krlo ga\n",
    "print(pi)\n"
   ]
  },
  {
   "cell_type": "code",
   "execution_count": 26,
   "metadata": {},
   "outputs": [
    {
     "data": {
      "text/plain": [
       "6"
      ]
     },
     "execution_count": 26,
     "metadata": {},
     "output_type": "execute_result"
    }
   ],
   "source": [
    "import math #ceiling means next value (or ya value ko round off krka increase \n",
    "#krdeta ha)\n",
    "math.ceil(5.7)"
   ]
  },
  {
   "cell_type": "code",
   "execution_count": 27,
   "metadata": {},
   "outputs": [
    {
     "data": {
      "text/plain": [
       "5"
      ]
     },
     "execution_count": 27,
     "metadata": {},
     "output_type": "execute_result"
    }
   ],
   "source": [
    "import math #floor means previous value(ya round off kr value ko degrade krdeta\n",
    "#ha yani kam kr deta ha )\n",
    "math.floor(5.7)"
   ]
  },
  {
   "cell_type": "code",
   "execution_count": 28,
   "metadata": {},
   "outputs": [
    {
     "ename": "ModuleNotFoundError",
     "evalue": "No module named 'import_ipynb'",
     "output_type": "error",
     "traceback": [
      "\u001b[1;31m---------------------------------------------------------------------------\u001b[0m",
      "\u001b[1;31mModuleNotFoundError\u001b[0m                       Traceback (most recent call last)",
      "\u001b[1;32m<ipython-input-28-35534a387b1a>\u001b[0m in \u001b[0;36m<module>\u001b[1;34m\u001b[0m\n\u001b[0;32m      6\u001b[0m \u001b[1;31m# kr sakta ha\u001b[0m\u001b[1;33m\u001b[0m\u001b[1;33m\u001b[0m\u001b[1;33m\u001b[0m\u001b[0m\n\u001b[0;32m      7\u001b[0m \u001b[1;31m#ab is tarh ka module hum is tarh import krta ha\u001b[0m\u001b[1;33m\u001b[0m\u001b[1;33m\u001b[0m\u001b[1;33m\u001b[0m\u001b[0m\n\u001b[1;32m----> 8\u001b[1;33m \u001b[1;32mimport\u001b[0m \u001b[0mimport_ipynb\u001b[0m\u001b[1;31m#ab ma jb import_ipynb likho ga to ma insure krdo ga ka wo\u001b[0m\u001b[1;33m\u001b[0m\u001b[1;33m\u001b[0m\u001b[0m\n\u001b[0m\u001b[0;32m      9\u001b[0m \u001b[1;31m#wo inma sa ksi file ko import krla\u001b[0m\u001b[1;33m\u001b[0m\u001b[1;33m\u001b[0m\u001b[1;33m\u001b[0m\u001b[0m\n\u001b[0;32m     10\u001b[0m \u001b[1;33m\u001b[0m\u001b[0m\n",
      "\u001b[1;31mModuleNotFoundError\u001b[0m: No module named 'import_ipynb'"
     ]
    }
   ],
   "source": [
    "#ab mna aik new python ki file banae ha whan mna aik fuction bnaya ha \n",
    "#def add(a,b):\n",
    " #   result = a+b\n",
    "  #  return result\n",
    "#ap is file ka ander function ka result yha hamrae module file ma excess\n",
    "# kr sakta ha\n",
    "#ab is tarh ka module hum is tarh import krta ha \n",
    "import import_ipynb#ab ma jb import_ipynb likho ga to ma insure krdo ga ka wo \n",
    "#wo inma sa ksi file ko import krla\n",
    "\n",
    "#ab yha sab sa phela apni file ko import kro ga \n",
    "import Untitled1\n",
    "#Untitled1. ka sath jo function perform krna is ko likho ga  \n",
    "Untitled1.add(5,3)\n"
   ]
  },
  {
   "cell_type": "code",
   "execution_count": 29,
   "metadata": {},
   "outputs": [
    {
     "name": "stdout",
     "output_type": "stream",
     "text": [
      "importing Jupyter notebook from Untitled1.ipynb\n"
     ]
    },
    {
     "data": {
      "text/plain": [
       "8"
      ]
     },
     "execution_count": 29,
     "metadata": {},
     "output_type": "execute_result"
    }
   ],
   "source": [
    "\n",
    "#ab mna aik new python ki file banae ha whan mna aik fuction bnaya ha \n",
    "#def add(a,b):\n",
    " #   result = a+b\n",
    "  #  return result\n",
    "#ap is file ka ander function ka result yha hamrae module file ma excess\n",
    "# kr sakta ha\n",
    "#ab is tarh ka module hum is tarh import krta ha \n",
    "import import_ipynb#ab ma jb import_ipynb likho ga to ma insure krdo ga ka wo \n",
    "#wo inma sa ksi file ko import krla\n",
    "\n",
    "#ab yha sab sa phela apni file ko import kro ga \n",
    "import Untitled1\n",
    "#Untitled1. ka sath jo function perform krna is ko likho ga  \n",
    "Untitled1.add(5,3)\n",
    "#error is lya aya tha  hum ko ipynb ka jo module ha is install krna zaroori ha \n",
    "#ab ma jb isko install kro ga to error gaib hojaa ga\n",
    "#ab ab home pr gae home pa ana ka baad               new\n",
    "#                                                    Notebook\n",
    "#                                                    python3 \n",
    "#                                                    other\n",
    "#                                                    TextFile\n",
    "#                                                    Folder  \n",
    "#                                                    Terminal\n",
    "#ab hum terinal p jae ga wha ya (pip install import_ipynb)(ya command is baat \n",
    "#ko insure kr rhi ha ka aik file ko dosri file ma excess krsaktaha)\n",
    "#ya command likho ga #or module install ho jaa ga phir upper wala  \n",
    "#programrun ho jaa ga\n"
   ]
  },
  {
   "cell_type": "markdown",
   "metadata": {},
   "source": [
    "# NUMPY STARTING"
   ]
  },
  {
   "cell_type": "markdown",
   "metadata": {},
   "source": [
    "#INTRODUCTION:\n",
    "Numpy apko functionality deta ha multi dimension array bnaa ki\n",
    "is ka do package or ha 1)Numpy 2)pandas\n",
    "ya basically fundamental or bhot important package ha apki pyhton programming \n",
    "ka kyu ya is cheez ko insure krta apka deta multidimension store krta ha\n",
    "ap ka apka complex operation jo perform horha hota jis ma apka linear algebra,\n",
    "computational counting ya tamam ki tamam apka ps jo cheeza perform hoti ha \n",
    "bhot huge calculation hoti ha to wha pr ap python ki list or touple wagira\n",
    "sa kra ga to bhot musqil sa hoga ap isko control nhi krsakta ha \n",
    "inko apko controll krna la lya Numpy,pandas in frame work utilize krta ha\n",
    "apko isko utilize to kr leta ha is baat kya hota ha\n",
    "ap agr do array ko add krna chta ha to isma ap index add no ko add kra ga\n",
    "arr1[1,2,3] and arr2[4,5,6] agr ap indono ko add kro ga to for ka loop apply\n",
    "kro ga python jb ka numpy ma ap by the help of plus(+) sign ap do arrays \n",
    "ko add krdeto ho\n",
    "ap ka brae sa brae array ho muti dimension ho ap iska + sign ki madad sa add \n",
    "krsakta ho or linear algebra or complex calculation ma apko functionality \n",
    "provide krta ha ka ap apna data asani sa manipulate krsakta ha or used krsakta\n",
    "ha\n",
    "multidimensionarray means aik ziada array\n"
   ]
  },
  {
   "cell_type": "code",
   "execution_count": 3,
   "metadata": {},
   "outputs": [
    {
     "name": "stdout",
     "output_type": "stream",
     "text": [
      "[[-0.24256148  0.89209135  0.79283959]\n",
      " [ 0.61369636  1.33822495 -0.61646556]]\n"
     ]
    }
   ],
   "source": [
    "#ab br numpy likna ka bjae mna isko np sa initialize kr dya ab brbr numpy nhi\n",
    "#likha ga just np likha ga  \n",
    "import numpy as np\n",
    "#now we generate random number we write  np.random.randn likha ga numpy ma to wo\n",
    "#mujha random number generate krda ga\n",
    "#ab mna jo (2,3) likha ha is ma 2 ka matlab ya ha apko do array chaya or ,3 \n",
    "#ka matlab ya ha ka apko hr array ka  ander 3 random number chya ha \n",
    "data = np.random.randn(2,3)\n",
    "print(data)"
   ]
  },
  {
   "cell_type": "code",
   "execution_count": 5,
   "metadata": {},
   "outputs": [
    {
     "name": "stdout",
     "output_type": "stream",
     "text": [
      "[[ 0.28499826 -0.52386444  0.44872098]\n",
      " [-1.7642614   0.92611078  0.35784252]] \n",
      "\n",
      "[[ 0.56999651 -1.04772887  0.89744195]\n",
      " [-3.52852279  1.85222156  0.71568503]]\n"
     ]
    }
   ],
   "source": [
    "import numpy as np\n",
    "\n",
    "data = np.random.randn(2,3)\n",
    "print(data,'\\n')\n",
    "print(data+data)\n",
    "#ab ma charha hon data ka ander jo cheez generate hue ha wo dobra isi kaander \n",
    "#add hojaga "
   ]
  },
  {
   "cell_type": "code",
   "execution_count": 7,
   "metadata": {},
   "outputs": [
    {
     "name": "stdout",
     "output_type": "stream",
     "text": [
      "[[-1.21872272  1.43879783  1.45366364]\n",
      " [-0.3195293  -0.20528695  2.01190914]] \n",
      "\n",
      "[[-2.43744545  2.87759567  2.90732728]\n",
      " [-0.63905859 -0.4105739   4.02381828]] \n",
      "\n",
      "[[-12.18722724  14.38797833  14.53663639]\n",
      " [ -3.19529296  -2.05286949  20.11909141]]\n"
     ]
    }
   ],
   "source": [
    "import numpy as np\n",
    "\n",
    "data = np.random.randn(2,3)\n",
    "print(data,'\\n')\n",
    "print(data+data,'\\n')\n",
    "print(data * 10)#data ka ander jitna bhi number ha inko multiply krdo 10 sa\n",
    "\n"
   ]
  },
  {
   "cell_type": "code",
   "execution_count": 9,
   "metadata": {},
   "outputs": [
    {
     "name": "stdout",
     "output_type": "stream",
     "text": [
      "[[ 1.42926102  1.22490422  1.33070662]\n",
      " [ 0.5801076   0.16472292 -0.91567539]] \n",
      "\n",
      "[[ 2.85852203  2.44980845  2.66141324]\n",
      " [ 1.16021521  0.32944583 -1.83135078]] \n",
      "\n",
      "[[14.29261017 12.24904223 13.30706619]\n",
      " [ 5.80107603  1.64722915 -9.15675392]] \n",
      "\n",
      "(2, 3)\n"
     ]
    }
   ],
   "source": [
    "import numpy as np\n",
    "\n",
    "data = np.random.randn(2,3)\n",
    "print(data,'\\n')\n",
    "print(data+data,'\\n')\n",
    "print(data * 10,'\\n')\n",
    "print(data.shape)#data.shape mujha ya btata ha ap ka ps kitni arrays ha or is\n",
    "#ma kitna number ha "
   ]
  },
  {
   "cell_type": "code",
   "execution_count": 10,
   "metadata": {},
   "outputs": [
    {
     "name": "stdout",
     "output_type": "stream",
     "text": [
      "[[ 0.83139333 -0.35149301 -1.33827972]\n",
      " [ 0.5932859  -1.8717502   0.15206335]] \n",
      "\n",
      "[[ 1.66278666 -0.70298602 -2.67655944]\n",
      " [ 1.1865718  -3.7435004   0.30412669]] \n",
      "\n",
      "[[  8.3139333   -3.51493012 -13.3827972 ]\n",
      " [  5.93285898 -18.71750199   1.52063347]] \n",
      "\n",
      "(2, 3) \n",
      "\n",
      "float64 \n",
      "\n"
     ]
    }
   ],
   "source": [
    "import numpy as np\n",
    "\n",
    "data = np.random.randn(2,3)\n",
    "print(data,'\\n')\n",
    "print(data+data,'\\n')\n",
    "print(data * 10,'\\n')\n",
    "print(data.shape,'\\n')\n",
    "print(data.dtype,'\\n')#dtype hamra ps data type btata ha ka hamara data kis type\n",
    "#ka ha "
   ]
  },
  {
   "cell_type": "code",
   "execution_count": 12,
   "metadata": {},
   "outputs": [
    {
     "name": "stdout",
     "output_type": "stream",
     "text": [
      "[[ 0.92028275  0.64990402 -0.78616825]\n",
      " [-0.19304018  0.62941743 -2.95983643]] \n",
      "\n",
      "[[ 1.8405655   1.29980804 -1.5723365 ]\n",
      " [-0.38608036  1.25883487 -5.91967287]] \n",
      "\n",
      "[[  9.20282748   6.49904022  -7.86168249]\n",
      " [ -1.93040178   6.29417435 -29.59836434]] \n",
      "\n",
      "(2, 3) \n",
      "\n",
      "float64 \n",
      "\n",
      "2 \n",
      "\n"
     ]
    }
   ],
   "source": [
    "import numpy as np\n",
    "\n",
    "data = np.random.randn(2,3)\n",
    "print(data,'\\n')\n",
    "print(data+data,'\\n')\n",
    "print(data * 10,'\\n')\n",
    "print(data.shape,'\\n')\n",
    "print(data.dtype,'\\n')\n",
    "print(data.ndim,'\\n')#n means number or dim means dimension ka hara ps\n",
    "# kitni array generate hue ha\n"
   ]
  },
  {
   "cell_type": "code",
   "execution_count": 13,
   "metadata": {},
   "outputs": [
    {
     "name": "stdout",
     "output_type": "stream",
     "text": [
      "[0. 0. 0. 0. 0. 0. 0. 0. 0. 0.]\n"
     ]
    }
   ],
   "source": [
    "#Numpy apko functionality deta ha ap zero ki array bhi generate kr sakta ha\n",
    "print(np.zeros(10))#humna aik jga numpy ko initialize krdiya ab hum hr jga \n",
    "#np ka zarya np ko used krsakta ha\n",
    "#10 represent no of zero\n",
    "\n"
   ]
  },
  {
   "cell_type": "code",
   "execution_count": 15,
   "metadata": {},
   "outputs": [
    {
     "name": "stdout",
     "output_type": "stream",
     "text": [
      "[0. 0. 0. 0. 0. 0. 0. 0. 0. 0.] \n",
      "\n",
      "[[0. 0. 0. 0. 0. 0.]\n",
      " [0. 0. 0. 0. 0. 0.]\n",
      " [0. 0. 0. 0. 0. 0.]] \n",
      "\n"
     ]
    }
   ],
   "source": [
    "print(np.zeros(10),'\\n')\n",
    "print(np.zeros((3,6)),'\\n')#ab humna 3 arry bnae or is ma 6 zeros dala"
   ]
  },
  {
   "cell_type": "code",
   "execution_count": 16,
   "metadata": {},
   "outputs": [
    {
     "name": "stdout",
     "output_type": "stream",
     "text": [
      "[0. 0. 0. 0. 0. 0. 0. 0. 0. 0.] \n",
      "\n",
      "[[0. 0. 0. 0. 0. 0.]\n",
      " [0. 0. 0. 0. 0. 0.]\n",
      " [0. 0. 0. 0. 0. 0.]] \n",
      "\n",
      "[[[0. 0. 0. 0. 0. 0.]\n",
      "  [0. 0. 0. 0. 0. 0.]\n",
      "  [0. 0. 0. 0. 0. 0.]]\n",
      "\n",
      " [[0. 0. 0. 0. 0. 0.]\n",
      "  [0. 0. 0. 0. 0. 0.]\n",
      "  [0. 0. 0. 0. 0. 0.]]] \n",
      "\n"
     ]
    }
   ],
   "source": [
    "print(np.zeros(10),'\\n')\n",
    "print(np.zeros((3,6)),'\\n')\n",
    "print(np.zeros((2,3,6)),'\\n')#ab yha isna 2 array generate kiya iska ander\n",
    "#3 array or banay or is ma 6 zero dal diya "
   ]
  },
  {
   "cell_type": "code",
   "execution_count": 19,
   "metadata": {},
   "outputs": [
    {
     "name": "stdout",
     "output_type": "stream",
     "text": [
      "[0. 0. 0. 0. 0. 0. 0. 0. 0. 0.] \n",
      "\n",
      "[[0. 0. 0. 0. 0. 0.]\n",
      " [0. 0. 0. 0. 0. 0.]\n",
      " [0. 0. 0. 0. 0. 0.]] \n",
      "\n",
      "[[[0. 0. 0. 0. 0. 0.]\n",
      "  [0. 0. 0. 0. 0. 0.]\n",
      "  [0. 0. 0. 0. 0. 0.]]\n",
      "\n",
      " [[0. 0. 0. 0. 0. 0.]\n",
      "  [0. 0. 0. 0. 0. 0.]\n",
      "  [0. 0. 0. 0. 0. 0.]]] \n",
      "\n",
      "it is empty example \n",
      " [[0. 0. 0. 0. 0. 0.]\n",
      " [0. 0. 0. 0. 0. 0.]\n",
      " [0. 0. 0. 0. 0. 0.]] \n",
      "\n"
     ]
    }
   ],
   "source": [
    "print(np.zeros(10),'\\n')\n",
    "print(np.zeros((3,6)),'\\n')\n",
    "print(np.zeros((2,3,6)),'\\n')\n",
    "#isi trh hamra numpy ma empty ka module ab is ko dektha wo kaisa used hota ha\n",
    "print('it is empty example \\n',np.empty((3,6)),'\\n')\n",
    "#ab yha empty or zero ma ya difference ha ka empty apko hr 0 daga or kabhi apko \n",
    "#garbage value daga jiska matlab koi bhi value \n",
    "#to zaroori nhi ha is lya agr apko zero ki need ha to ap np.zeros print kra"
   ]
  },
  {
   "cell_type": "code",
   "execution_count": 22,
   "metadata": {},
   "outputs": [
    {
     "name": "stdout",
     "output_type": "stream",
     "text": [
      "[1. 2. 3. 4. 5. 6.]\n"
     ]
    }
   ],
   "source": [
    "#ab yha arra bnae ha ab is normal arry ko numpy ki arry bnae ga hum\n",
    "arr = np.array([1,2,3,4,5,6])#ab yha ma jo bhi value doga wo numpy \n",
    "#ki array bn jaage\n",
    "#ab ma chata hon ya value jo int ma ha wo float ma convert hojaa iskaly\n",
    "#hum used kra ga astype() or bracket ka ander jis ma convert krna ha wo \n",
    "#likh da suppose float ka np.float\n",
    "print(arr.astype(np.float64))\n",
    "#means isna aik integer array ko float ma convert krdiya ha"
   ]
  },
  {
   "cell_type": "code",
   "execution_count": 21,
   "metadata": {},
   "outputs": [
    {
     "name": "stdout",
     "output_type": "stream",
     "text": [
      "[1. 2. 3. 4. 5. 6.]\n"
     ]
    }
   ],
   "source": [
    "arr = np.array([1,2,3,4,5,6])\n",
    "print(arr.astype(np.float64))\n"
   ]
  },
  {
   "cell_type": "code",
   "execution_count": 23,
   "metadata": {},
   "outputs": [
    {
     "name": "stdout",
     "output_type": "stream",
     "text": [
      "[ 8  4  6 12 18]\n"
     ]
    }
   ],
   "source": [
    "arr = np.array([4,2,3,6,9],dtype='int64')#hum array bnata waqt iski data type bhi initialize\n",
    "#kr sakta ha\n",
    "print(arr *2)"
   ]
  },
  {
   "cell_type": "code",
   "execution_count": 31,
   "metadata": {},
   "outputs": [
    {
     "name": "stdout",
     "output_type": "stream",
     "text": [
      "[4 2 3 6 9] \n",
      "\n",
      "[ 8  4  6 12 18] \n",
      "\n"
     ]
    }
   ],
   "source": [
    "arr = np.array([4,2,3,6,9],dtype='int64')\n",
    "print(arr,'\\n')\n",
    "print(arr *2,'\\n')"
   ]
  },
  {
   "cell_type": "code",
   "execution_count": 32,
   "metadata": {},
   "outputs": [
    {
     "name": "stdout",
     "output_type": "stream",
     "text": [
      "[4 2 3 6 9] \n",
      "\n",
      "[ 8  4  6 12 18] \n",
      "\n",
      "[16  4  9 36 81] \n",
      "\n"
     ]
    }
   ],
   "source": [
    "arr = np.array([4,2,3,6,9],dtype='int64')\n",
    "print(arr,'\\n')\n",
    "print(arr *2,'\\n')\n",
    "print(arr * arr,'\\n')"
   ]
  },
  {
   "cell_type": "code",
   "execution_count": 46,
   "metadata": {},
   "outputs": [
    {
     "name": "stdout",
     "output_type": "stream",
     "text": [
      "[4 2 3 6 9] \n",
      "\n",
      "[ 8  4  6 12 18] \n",
      "\n",
      "[16  4  9 36 81] \n",
      "\n",
      "[ 8  4  6 12 18] \n",
      "\n",
      "[16  4  9 36 81] \n",
      "\n",
      "[2.         1.41421356 1.73205081 2.44948974 3.        ] \n",
      "\n",
      "[5.45981500e+01 7.38905610e+00 2.00855369e+01 4.03428793e+02\n",
      " 8.10308393e+03] \n",
      "\n",
      "4.8 \n",
      "\n",
      "24 \n",
      "\n",
      "[ 4  6  9 15 24] \n",
      "\n",
      "[2 3 4 6 9] \n",
      "\n",
      "[ True  True False  True  True]\n",
      "[False False False False False]\n"
     ]
    }
   ],
   "source": [
    "arr = np.array([4,2,3,6,9],dtype='int64')\n",
    "print(arr,'\\n')\n",
    "print(arr *2,'\\n')\n",
    "print(arr * arr,'\\n')\n",
    "print(2 * arr,'\\n')\n",
    "print(arr ** 2,'\\n')#**(for power)\n",
    "print(np.sqrt(arr),'\\n')# for square root\n",
    "print(np.exp(arr),'\\n')#for exponent\n",
    "print(np.mean(arr),'\\n')#Statistics operation (mean,median and mode)\n",
    "print(np.sum(arr),'\\n')#sum\n",
    "print(np.cumsum(arr),'\\n')#cumsum yani 4 ko 2 ma add kiya phir iska baad indono \n",
    "#ka result ko next value ma add kiya like 3 ma kiya and so on\n",
    "print(np.sort(arr),'\\n')#sort(arrange)\n",
    "# now we do boolean operation\n",
    "#> < \n",
    "#mujha check krna arry1 ki value arr2 ki value sa bari ha ya nhi\n",
    "arr2 =np.array([0,1,3,5,4])\n",
    "print(arr > arr2)\n",
    "print(arr < arr2)"
   ]
  },
  {
   "cell_type": "code",
   "execution_count": 50,
   "metadata": {},
   "outputs": [
    {
     "name": "stdout",
     "output_type": "stream",
     "text": [
      "[0 1 2 3 4 5 6 7 8 9]\n",
      "[5 6 7]\n",
      "[0 0 0 3 4 5 6 7 8 9]\n"
     ]
    }
   ],
   "source": [
    "#ab humko range ka function used krta python ma but numpy ma hum arange used\n",
    "#krta ha\n",
    "arr = np.arange(10)#ab mna arange 0 to taq ki value ko arrange bhi kya\n",
    "#or generate bhi\n",
    "print(arr)\n",
    " \n",
    "arr2=arr[5:8]\n",
    "print(arr2)\n",
    "arr[:3]=0 #jin element ko slicing ki in tamam ko zero sa replace krdega ga \n",
    "print(arr)"
   ]
  },
  {
   "cell_type": "code",
   "execution_count": 25,
   "metadata": {},
   "outputs": [
    {
     "name": "stdout",
     "output_type": "stream",
     "text": [
      "[[ 1.9131925   0.37794082 -0.77263504]\n",
      " [-1.21652018  0.86442433 -1.15933801]\n",
      " [ 0.79958309  1.84871323 -0.6083352 ]\n",
      " [-0.1187217  -0.8915983   0.21199454]\n",
      " [ 1.13399168 -0.34388823 -0.9881022 ]] \n",
      "\n",
      "['ali' 'raza' 'fahad' 'hussain' 'ali'] \n",
      "\n",
      "[ True False False False  True] \n",
      "\n",
      "[[ 1.9131925   0.37794082 -0.77263504]\n",
      " [ 1.13399168 -0.34388823 -0.9881022 ]] \n",
      "\n",
      "[[-1.21652018  0.86442433 -1.15933801]\n",
      " [ 0.79958309  1.84871323 -0.6083352 ]\n",
      " [-0.1187217  -0.8915983   0.21199454]] \n",
      "\n",
      "['ali' 'fahad' 'hussain' 'raza'] \n",
      "\n"
     ]
    }
   ],
   "source": [
    "namesArr = np.array([\"ali\",\"raza\",\"fahad\",\"hussain\",\"ali\"])\n",
    "#jitna  element first list ma hoga itna array generate kra \n",
    "# second arr ma  means 5 (5,3)\n",
    "numArr = np.random.randn(5,3)\n",
    "print(numArr ,'\\n')\n",
    "print(namesArr ,'\\n')\n",
    "print(namesArr == \"ali\",'\\n')\n",
    "print(numArr[namesArr == \"ali\"],'\\n')#numArr ka ander check kro kya cheez ka ali apko\n",
    "#apko kha kha mil rha ha jha  jha ap ko ali mila is arr ma sa wo wala arr ko\n",
    "#(value) ko uthao or print krdo to isna first wali arry or last lakr print kr di\n",
    "#jha isko ali mila \n",
    "print(numArr[~(namesArr == \"ali\")],'\\n')#~ not ka operation\n",
    "#ab 3 jga ali nhi tha islya inteen jga print kiya\n",
    "print(np.unique(namesArr),'\\n')#hr element ko  print krddga jo repeat \n",
    "#horha  ho aik dafa print krda  ga or sath ma sorting bhi krda ga(A,F,H,R)\n"
   ]
  },
  {
   "cell_type": "code",
   "execution_count": 10,
   "metadata": {},
   "outputs": [
    {
     "name": "stdout",
     "output_type": "stream",
     "text": [
      "[ 2.35067012 -0.07733842  0.21559631  0.48907755] \n",
      "\n",
      "[-0.50620323 -2.23560299 -0.87194993  1.64280063] \n",
      "\n",
      "[ 2.35067012 -0.07733842  0.21559631  1.64280063] \n",
      "\n",
      "[-0.50620323 -2.23560299 -0.87194993  0.48907755] \n",
      "\n"
     ]
    }
   ],
   "source": [
    "import numpy as np\n",
    "arr1 =np.random.randn(4)\n",
    "print(arr1,'\\n')\n",
    "arr2 =np.random.randn(4)\n",
    "print(arr2,'\\n')\n",
    "print(np.maximum(arr1,arr2),'\\n')\n",
    "print(np.minimum(arr1,arr2),'\\n')"
   ]
  },
  {
   "cell_type": "code",
   "execution_count": null,
   "metadata": {},
   "outputs": [],
   "source": []
  }
 ],
 "metadata": {
  "kernelspec": {
   "display_name": "Python 3",
   "language": "python",
   "name": "python3"
  },
  "language_info": {
   "codemirror_mode": {
    "name": "ipython",
    "version": 3
   },
   "file_extension": ".py",
   "mimetype": "text/x-python",
   "name": "python",
   "nbconvert_exporter": "python",
   "pygments_lexer": "ipython3",
   "version": "3.7.4"
  }
 },
 "nbformat": 4,
 "nbformat_minor": 2
}
