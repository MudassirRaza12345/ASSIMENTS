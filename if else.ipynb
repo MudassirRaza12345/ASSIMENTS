{
 "cells": [
  {
   "cell_type": "code",
   "execution_count": 3,
   "metadata": {},
   "outputs": [
    {
     "name": "stdout",
     "output_type": "stream",
     "text": [
      "Enter the conditionlow\n",
      "buy_score+=5\n"
     ]
    }
   ],
   "source": [
    "buy_score = 0\n",
    "donut_condition =input(\"Enter the condition\")\n",
    "if donut_condition == \"fresh\" :\n",
    "    print(\"buy_score+=10\")\n",
    "elif donut_condition == \"low\" :\n",
    "    print(\"buy_score+=5\")\n",
    "else :\n",
    "    print(\"buy_score+=0\")"
   ]
  },
  {
   "cell_type": "code",
   "execution_count": 4,
   "metadata": {},
   "outputs": [
    {
     "name": "stdout",
     "output_type": "stream",
     "text": [
      "Enter the conditionlow\n",
      "buy_score+=5\n"
     ]
    }
   ],
   "source": [
    "buy_score = 2\n",
    "donut_condition =input(\"Enter the condition\")\n",
    "if donut_condition == \"fresh\" :\n",
    "    print(\"buy_score+=10\")\n",
    "elif donut_condition == \"low\" :\n",
    "    print(\"buy_score+=5\")\n",
    "else :\n",
    "    print(\"buy_score+=0\")"
   ]
  },
  {
   "cell_type": "code",
   "execution_count": 1,
   "metadata": {},
   "outputs": [
    {
     "name": "stdout",
     "output_type": "stream",
     "text": [
      "Enter the conditionlow\n",
      "buy_score+=5\n",
      "buy_score+=5\n"
     ]
    }
   ],
   "source": [
    "buy_score = 2\n",
    "donut_condition =input(\"Enter the condition\")\n",
    "if donut_condition == \"fresh\" :\n",
    "    print(\"buy_score+=10\")\n",
    "elif donut_condition == \"low\" :\n",
    "    print(\"buy_score+=5\")\n",
    "else :\n",
    "    print(\"buy_score=buy_score+5\")\n",
    "if donut_condition == \"fresh\" :\n",
    "    print(\"buy_score+=10\")\n",
    "elif donut_condition == \"low\" :\n",
    "    print(\"buy_score+=5\")\n",
    "else :\n",
    "    print(\"buy_score=buy_score+0\")"
   ]
  }
 ],
 "metadata": {
  "kernelspec": {
   "display_name": "Python 3",
   "language": "python",
   "name": "python3"
  },
  "language_info": {
   "codemirror_mode": {
    "name": "ipython",
    "version": 3
   },
   "file_extension": ".py",
   "mimetype": "text/x-python",
   "name": "python",
   "nbconvert_exporter": "python",
   "pygments_lexer": "ipython3",
   "version": "3.7.4"
  }
 },
 "nbformat": 4,
 "nbformat_minor": 2
}
